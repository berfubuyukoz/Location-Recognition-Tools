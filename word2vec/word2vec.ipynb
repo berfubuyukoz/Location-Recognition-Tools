{
 "cells": [
  {
   "cell_type": "code",
   "execution_count": 2,
   "metadata": {},
   "outputs": [
    {
     "name": "stderr",
     "output_type": "stream",
     "text": [
      "/home/arda/anaconda3/lib/python3.6/importlib/_bootstrap.py:219: RuntimeWarning: numpy.dtype size changed, may indicate binary incompatibility. Expected 96, got 88\n",
      "  return f(*args, **kwds)\n",
      "/home/arda/anaconda3/lib/python3.6/importlib/_bootstrap.py:219: RuntimeWarning: numpy.dtype size changed, may indicate binary incompatibility. Expected 96, got 88\n",
      "  return f(*args, **kwds)\n"
     ]
    }
   ],
   "source": [
    "from gensim import corpora, models, similarities\n",
    "import gzip\n",
    "import numpy as np\n",
    "import gensim \n",
    "import logging\n",
    "logging.basicConfig(format='%(asctime)s : %(levelname)s : %(message)s', level=logging.INFO)"
   ]
  },
  {
   "cell_type": "code",
   "execution_count": 4,
   "metadata": {},
   "outputs": [
    {
     "name": "stderr",
     "output_type": "stream",
     "text": [
      "2018-08-13 11:14:02,860 : INFO : collecting document frequencies\n",
      "2018-08-13 11:14:02,862 : INFO : PROGRESS: processing document #0\n",
      "2018-08-13 11:14:02,863 : INFO : calculating IDF weights for 9 documents and 11 features (28 matrix non-zeros)\n"
     ]
    },
    {
     "name": "stdout",
     "output_type": "stream",
     "text": [
      "[(0, 0.8075244024440723), (4, 0.5898341626740045)]\n"
     ]
    }
   ],
   "source": [
    ">>> corpus = [[(0, 1.0), (1, 1.0), (2, 1.0)],\n",
    ">>>           [(2, 1.0), (3, 1.0), (4, 1.0), (5, 1.0), (6, 1.0), (8, 1.0)],\n",
    ">>>           [(1, 1.0), (3, 1.0), (4, 1.0), (7, 1.0)],\n",
    ">>>           [(0, 1.0), (4, 2.0), (7, 1.0)],\n",
    ">>>           [(3, 1.0), (5, 1.0), (6, 1.0)],\n",
    ">>>           [(9, 1.0)],\n",
    ">>>           [(9, 1.0), (10, 1.0)],\n",
    ">>>           [(9, 1.0), (10, 1.0), (11, 1.0)],\n",
    ">>>           [(8, 1.0), (10, 1.0), (11, 1.0)]]\n",
    ">>> tfidf = models.TfidfModel(corpus)\n",
    ">>> vec = [(0, 1), (4, 1)]\n",
    ">>> print(tfidf[vec])\n"
   ]
  },
  {
   "cell_type": "code",
   "execution_count": 5,
   "metadata": {},
   "outputs": [],
   "source": [
    "from gensim.models import Word2Vec\n",
    "import time"
   ]
  },
  {
   "cell_type": "code",
   "execution_count": 6,
   "metadata": {},
   "outputs": [
    {
     "name": "stderr",
     "output_type": "stream",
     "text": [
      "2018-08-13 11:14:03,540 : INFO : adding document #0 to Dictionary(0 unique tokens: [])\n",
      "2018-08-13 11:14:03,541 : INFO : built Dictionary(12 unique tokens: ['computer', 'human', 'interface', 'response', 'survey']...) from 9 documents (total 29 corpus positions)\n"
     ]
    }
   ],
   "source": [
    "from gensim.test.utils import common_texts, get_tmpfile\n",
    "import gensim"
   ]
  },
  {
   "cell_type": "code",
   "execution_count": 7,
   "metadata": {},
   "outputs": [
    {
     "name": "stderr",
     "output_type": "stream",
     "text": [
      "2018-08-13 11:14:09,033 : INFO : collecting all words and their counts\n",
      "2018-08-13 11:14:09,036 : INFO : PROGRESS: at sentence #0, processed 0 words, keeping 0 word types\n",
      "2018-08-13 11:14:09,077 : INFO : PROGRESS: at sentence #10000, processed 193322 words, keeping 17660 word types\n",
      "2018-08-13 11:14:09,116 : INFO : PROGRESS: at sentence #20000, processed 386279 words, keeping 25732 word types\n",
      "2018-08-13 11:14:09,156 : INFO : PROGRESS: at sentence #30000, processed 576651 words, keeping 31186 word types\n",
      "2018-08-13 11:14:09,192 : INFO : PROGRESS: at sentence #40000, processed 767723 words, keeping 36025 word types\n",
      "2018-08-13 11:14:09,239 : INFO : PROGRESS: at sentence #50000, processed 949900 words, keeping 39702 word types\n",
      "2018-08-13 11:14:09,287 : INFO : PROGRESS: at sentence #60000, processed 1141691 words, keeping 43725 word types\n",
      "2018-08-13 11:14:09,362 : INFO : PROGRESS: at sentence #70000, processed 1337581 words, keeping 46892 word types\n",
      "2018-08-13 11:14:09,415 : INFO : PROGRESS: at sentence #80000, processed 1532831 words, keeping 49764 word types\n",
      "2018-08-13 11:14:09,456 : INFO : PROGRESS: at sentence #90000, processed 1724633 words, keeping 52757 word types\n",
      "2018-08-13 11:14:09,509 : INFO : PROGRESS: at sentence #100000, processed 1924365 words, keeping 55787 word types\n",
      "2018-08-13 11:14:09,563 : INFO : PROGRESS: at sentence #110000, processed 2134561 words, keeping 58819 word types\n",
      "2018-08-13 11:14:09,618 : INFO : PROGRESS: at sentence #120000, processed 2376745 words, keeping 62428 word types\n",
      "2018-08-13 11:14:09,678 : INFO : PROGRESS: at sentence #130000, processed 2614812 words, keeping 66425 word types\n",
      "2018-08-13 11:14:09,738 : INFO : PROGRESS: at sentence #140000, processed 2848975 words, keeping 70492 word types\n",
      "2018-08-13 11:14:09,799 : INFO : PROGRESS: at sentence #150000, processed 3082206 words, keeping 74025 word types\n",
      "2018-08-13 11:14:09,801 : INFO : collected 74105 word types from a corpus of 3088388 raw words and 150258 sentences\n",
      "2018-08-13 11:14:09,802 : INFO : Loading a fresh vocabulary\n",
      "2018-08-13 11:14:10,016 : INFO : effective_min_count=2 retains 44777 unique words (60% of original 74105, drops 29328)\n",
      "2018-08-13 11:14:10,016 : INFO : effective_min_count=2 leaves 3059060 word corpus (99% of original 3088388, drops 29328)\n",
      "2018-08-13 11:14:10,119 : INFO : deleting the raw counts dictionary of 74105 items\n",
      "2018-08-13 11:14:10,122 : INFO : sample=0.001 downsamples 43 most-common words\n",
      "2018-08-13 11:14:10,122 : INFO : downsampling leaves estimated 2435680 word corpus (79.6% of prior 3059060)\n",
      "2018-08-13 11:14:10,281 : INFO : estimated required memory for 44777 words and 100 dimensions: 58210100 bytes\n",
      "2018-08-13 11:14:10,282 : INFO : resetting layer weights\n",
      "2018-08-13 11:14:10,725 : INFO : training model with 1 workers on 44777 vocabulary and 100 features, using sg=0 hs=0 sample=0.001 negative=5 window=10\n",
      "2018-08-13 11:14:11,756 : INFO : EPOCH 1 - PROGRESS: at 15.12% examples, 338740 words/s, in_qsize 1, out_qsize 0\n",
      "2018-08-13 11:14:12,767 : INFO : EPOCH 1 - PROGRESS: at 29.51% examples, 329318 words/s, in_qsize 1, out_qsize 0\n",
      "2018-08-13 11:14:13,769 : INFO : EPOCH 1 - PROGRESS: at 44.84% examples, 334886 words/s, in_qsize 1, out_qsize 0\n",
      "2018-08-13 11:14:14,783 : INFO : EPOCH 1 - PROGRESS: at 61.65% examples, 346548 words/s, in_qsize 1, out_qsize 0\n",
      "2018-08-13 11:14:15,786 : INFO : EPOCH 1 - PROGRESS: at 75.35% examples, 346237 words/s, in_qsize 1, out_qsize 0\n",
      "2018-08-13 11:14:16,808 : INFO : EPOCH 1 - PROGRESS: at 88.36% examples, 348535 words/s, in_qsize 1, out_qsize 0\n",
      "2018-08-13 11:14:17,789 : INFO : worker thread finished; awaiting finish of 0 more threads\n",
      "2018-08-13 11:14:17,790 : INFO : EPOCH - 1 : training on 3088388 raw words (2435201 effective words) took 7.1s, 345011 effective words/s\n",
      "2018-08-13 11:14:18,822 : INFO : EPOCH 2 - PROGRESS: at 14.46% examples, 322445 words/s, in_qsize 1, out_qsize 0\n",
      "2018-08-13 11:14:19,824 : INFO : EPOCH 2 - PROGRESS: at 30.96% examples, 345846 words/s, in_qsize 1, out_qsize 0\n",
      "2018-08-13 11:14:20,827 : INFO : EPOCH 2 - PROGRESS: at 49.62% examples, 372040 words/s, in_qsize 1, out_qsize 0\n",
      "2018-08-13 11:14:21,837 : INFO : EPOCH 2 - PROGRESS: at 67.35% examples, 380585 words/s, in_qsize 1, out_qsize 0\n",
      "2018-08-13 11:14:22,851 : INFO : EPOCH 2 - PROGRESS: at 82.52% examples, 386586 words/s, in_qsize 1, out_qsize 0\n",
      "2018-08-13 11:14:23,870 : INFO : EPOCH 2 - PROGRESS: at 96.92% examples, 387139 words/s, in_qsize 1, out_qsize 0\n",
      "2018-08-13 11:14:24,068 : INFO : worker thread finished; awaiting finish of 0 more threads\n",
      "2018-08-13 11:14:24,069 : INFO : EPOCH - 2 : training on 3088388 raw words (2435748 effective words) took 6.3s, 388171 effective words/s\n",
      "2018-08-13 11:14:25,099 : INFO : EPOCH 3 - PROGRESS: at 18.65% examples, 415366 words/s, in_qsize 1, out_qsize 0\n",
      "2018-08-13 11:14:26,115 : INFO : EPOCH 3 - PROGRESS: at 37.66% examples, 417602 words/s, in_qsize 2, out_qsize 0\n",
      "2018-08-13 11:14:27,132 : INFO : EPOCH 3 - PROGRESS: at 57.57% examples, 428323 words/s, in_qsize 1, out_qsize 0\n",
      "2018-08-13 11:14:28,137 : INFO : EPOCH 3 - PROGRESS: at 75.03% examples, 428943 words/s, in_qsize 1, out_qsize 0\n",
      "2018-08-13 11:14:29,150 : INFO : EPOCH 3 - PROGRESS: at 89.03% examples, 420248 words/s, in_qsize 2, out_qsize 0\n",
      "2018-08-13 11:14:29,834 : INFO : worker thread finished; awaiting finish of 0 more threads\n",
      "2018-08-13 11:14:29,834 : INFO : EPOCH - 3 : training on 3088388 raw words (2435064 effective words) took 5.8s, 422743 effective words/s\n",
      "2018-08-13 11:14:30,849 : INFO : EPOCH 4 - PROGRESS: at 19.31% examples, 438370 words/s, in_qsize 1, out_qsize 0\n",
      "2018-08-13 11:14:31,877 : INFO : EPOCH 4 - PROGRESS: at 38.01% examples, 422594 words/s, in_qsize 1, out_qsize 0\n",
      "2018-08-13 11:14:32,881 : INFO : EPOCH 4 - PROGRESS: at 56.12% examples, 420390 words/s, in_qsize 1, out_qsize 0\n",
      "2018-08-13 11:14:33,891 : INFO : EPOCH 4 - PROGRESS: at 72.67% examples, 412885 words/s, in_qsize 2, out_qsize 0\n",
      "2018-08-13 11:14:34,893 : INFO : EPOCH 4 - PROGRESS: at 87.81% examples, 416162 words/s, in_qsize 1, out_qsize 0\n",
      "2018-08-13 11:14:35,646 : INFO : worker thread finished; awaiting finish of 0 more threads\n",
      "2018-08-13 11:14:35,647 : INFO : EPOCH - 4 : training on 3088388 raw words (2435903 effective words) took 5.8s, 419513 effective words/s\n",
      "2018-08-13 11:14:36,655 : INFO : EPOCH 5 - PROGRESS: at 20.03% examples, 454677 words/s, in_qsize 1, out_qsize 0\n",
      "2018-08-13 11:14:37,661 : INFO : EPOCH 5 - PROGRESS: at 39.76% examples, 447249 words/s, in_qsize 1, out_qsize 0\n",
      "2018-08-13 11:14:38,663 : INFO : EPOCH 5 - PROGRESS: at 57.91% examples, 437196 words/s, in_qsize 1, out_qsize 0\n",
      "2018-08-13 11:14:39,678 : INFO : EPOCH 5 - PROGRESS: at 75.63% examples, 436550 words/s, in_qsize 2, out_qsize 0\n",
      "2018-08-13 11:14:40,684 : INFO : EPOCH 5 - PROGRESS: at 91.66% examples, 437794 words/s, in_qsize 1, out_qsize 0\n",
      "2018-08-13 11:14:41,207 : INFO : worker thread finished; awaiting finish of 0 more threads\n",
      "2018-08-13 11:14:41,207 : INFO : EPOCH - 5 : training on 3088388 raw words (2435234 effective words) took 5.6s, 438179 effective words/s\n",
      "2018-08-13 11:14:41,208 : INFO : training on a 15441940 raw words (12177150 effective words) took 30.5s, 399487 effective words/s\n"
     ]
    }
   ],
   "source": [
    "sents=open(\"allnews\").readlines()\n",
    "corp=[]\n",
    "for sent in sents:\n",
    "    corp.append(gensim.utils.simple_preprocess (sent))\n",
    "model = Word2Vec(corp,size=100,window=10,min_count=2,workers=1)"
   ]
  },
  {
   "cell_type": "code",
   "execution_count": 8,
   "metadata": {},
   "outputs": [
    {
     "data": {
      "text/plain": [
       "150258"
      ]
     },
     "execution_count": 8,
     "metadata": {},
     "output_type": "execute_result"
    }
   ],
   "source": [
    "len(corp)"
   ]
  },
  {
   "cell_type": "code",
   "execution_count": 9,
   "metadata": {},
   "outputs": [
    {
     "name": "stderr",
     "output_type": "stream",
     "text": [
      "2018-08-13 11:15:09,941 : WARNING : Effective 'alpha' higher than previous training cycles\n",
      "2018-08-13 11:15:09,942 : INFO : training model with 1 workers on 44777 vocabulary and 100 features, using sg=0 hs=0 sample=0.001 negative=5 window=10\n",
      "2018-08-13 11:15:10,953 : INFO : EPOCH 1 - PROGRESS: at 19.66% examples, 446906 words/s, in_qsize 1, out_qsize 0\n",
      "2018-08-13 11:15:11,958 : INFO : EPOCH 1 - PROGRESS: at 37.66% examples, 423840 words/s, in_qsize 1, out_qsize 0\n",
      "2018-08-13 11:15:12,971 : INFO : EPOCH 1 - PROGRESS: at 55.42% examples, 417276 words/s, in_qsize 1, out_qsize 0\n",
      "2018-08-13 11:15:14,000 : INFO : EPOCH 1 - PROGRESS: at 73.70% examples, 420318 words/s, in_qsize 1, out_qsize 0\n",
      "2018-08-13 11:15:15,005 : INFO : EPOCH 1 - PROGRESS: at 88.71% examples, 420288 words/s, in_qsize 1, out_qsize 0\n",
      "2018-08-13 11:15:15,752 : INFO : worker thread finished; awaiting finish of 0 more threads\n",
      "2018-08-13 11:15:15,753 : INFO : EPOCH - 1 : training on 3088388 raw words (2434898 effective words) took 5.8s, 419471 effective words/s\n",
      "2018-08-13 11:15:16,775 : INFO : EPOCH 2 - PROGRESS: at 19.66% examples, 441980 words/s, in_qsize 1, out_qsize 0\n",
      "2018-08-13 11:15:17,790 : INFO : EPOCH 2 - PROGRESS: at 38.69% examples, 430899 words/s, in_qsize 1, out_qsize 0\n",
      "2018-08-13 11:15:18,800 : INFO : EPOCH 2 - PROGRESS: at 58.27% examples, 435655 words/s, in_qsize 1, out_qsize 0\n",
      "2018-08-13 11:15:19,814 : INFO : EPOCH 2 - PROGRESS: at 76.14% examples, 437411 words/s, in_qsize 1, out_qsize 0\n",
      "2018-08-13 11:15:20,820 : INFO : EPOCH 2 - PROGRESS: at 92.16% examples, 438464 words/s, in_qsize 1, out_qsize 0\n",
      "2018-08-13 11:15:21,307 : INFO : worker thread finished; awaiting finish of 0 more threads\n",
      "2018-08-13 11:15:21,307 : INFO : EPOCH - 2 : training on 3088388 raw words (2435235 effective words) took 5.6s, 438778 effective words/s\n",
      "2018-08-13 11:15:22,319 : INFO : EPOCH 3 - PROGRESS: at 18.65% examples, 423914 words/s, in_qsize 1, out_qsize 0\n",
      "2018-08-13 11:15:23,326 : INFO : EPOCH 3 - PROGRESS: at 37.36% examples, 419626 words/s, in_qsize 1, out_qsize 0\n",
      "2018-08-13 11:15:24,340 : INFO : EPOCH 3 - PROGRESS: at 56.12% examples, 422247 words/s, in_qsize 2, out_qsize 0\n",
      "2018-08-13 11:15:25,343 : INFO : EPOCH 3 - PROGRESS: at 74.22% examples, 426607 words/s, in_qsize 2, out_qsize 0\n",
      "2018-08-13 11:15:26,358 : INFO : EPOCH 3 - PROGRESS: at 89.93% examples, 427635 words/s, in_qsize 1, out_qsize 0\n",
      "2018-08-13 11:15:27,005 : INFO : worker thread finished; awaiting finish of 0 more threads\n",
      "2018-08-13 11:15:27,005 : INFO : EPOCH - 3 : training on 3088388 raw words (2435427 effective words) took 5.7s, 427865 effective words/s\n",
      "2018-08-13 11:15:28,024 : INFO : EPOCH 4 - PROGRESS: at 20.03% examples, 450172 words/s, in_qsize 1, out_qsize 0\n",
      "2018-08-13 11:15:29,036 : INFO : EPOCH 4 - PROGRESS: at 40.50% examples, 451482 words/s, in_qsize 1, out_qsize 0\n",
      "2018-08-13 11:15:30,041 : INFO : EPOCH 4 - PROGRESS: at 59.59% examples, 447544 words/s, in_qsize 1, out_qsize 0\n",
      "2018-08-13 11:15:31,051 : INFO : EPOCH 4 - PROGRESS: at 76.88% examples, 444707 words/s, in_qsize 1, out_qsize 0\n",
      "2018-08-13 11:15:32,066 : INFO : EPOCH 4 - PROGRESS: at 91.66% examples, 435868 words/s, in_qsize 1, out_qsize 0\n",
      "2018-08-13 11:15:32,579 : INFO : worker thread finished; awaiting finish of 0 more threads\n",
      "2018-08-13 11:15:32,580 : INFO : EPOCH - 4 : training on 3088388 raw words (2435517 effective words) took 5.6s, 437205 effective words/s\n",
      "2018-08-13 11:15:33,590 : INFO : EPOCH 5 - PROGRESS: at 20.03% examples, 454616 words/s, in_qsize 1, out_qsize 0\n",
      "2018-08-13 11:15:34,601 : INFO : EPOCH 5 - PROGRESS: at 40.12% examples, 449822 words/s, in_qsize 1, out_qsize 0\n",
      "2018-08-13 11:15:35,619 : INFO : EPOCH 5 - PROGRESS: at 59.93% examples, 449771 words/s, in_qsize 2, out_qsize 0\n",
      "2018-08-13 11:15:36,622 : INFO : EPOCH 5 - PROGRESS: at 77.15% examples, 447142 words/s, in_qsize 2, out_qsize 0\n",
      "2018-08-13 11:15:37,632 : INFO : EPOCH 5 - PROGRESS: at 93.26% examples, 445842 words/s, in_qsize 2, out_qsize 0\n",
      "2018-08-13 11:15:38,044 : INFO : worker thread finished; awaiting finish of 0 more threads\n",
      "2018-08-13 11:15:38,044 : INFO : EPOCH - 5 : training on 3088388 raw words (2435607 effective words) took 5.5s, 446062 effective words/s\n",
      "2018-08-13 11:15:39,051 : INFO : EPOCH 6 - PROGRESS: at 20.03% examples, 455760 words/s, in_qsize 1, out_qsize 0\n",
      "2018-08-13 11:15:40,054 : INFO : EPOCH 6 - PROGRESS: at 40.12% examples, 452418 words/s, in_qsize 1, out_qsize 0\n",
      "2018-08-13 11:15:41,069 : INFO : EPOCH 6 - PROGRESS: at 59.93% examples, 451871 words/s, in_qsize 1, out_qsize 0\n",
      "2018-08-13 11:15:42,072 : INFO : EPOCH 6 - PROGRESS: at 77.41% examples, 450744 words/s, in_qsize 1, out_qsize 0\n",
      "2018-08-13 11:15:43,088 : INFO : EPOCH 6 - PROGRESS: at 93.79% examples, 449677 words/s, in_qsize 2, out_qsize 0\n",
      "2018-08-13 11:15:43,466 : INFO : worker thread finished; awaiting finish of 0 more threads\n",
      "2018-08-13 11:15:43,466 : INFO : EPOCH - 6 : training on 3088388 raw words (2435487 effective words) took 5.4s, 449539 effective words/s\n",
      "2018-08-13 11:15:44,484 : INFO : EPOCH 7 - PROGRESS: at 18.96% examples, 427720 words/s, in_qsize 1, out_qsize 0\n",
      "2018-08-13 11:15:45,491 : INFO : EPOCH 7 - PROGRESS: at 37.36% examples, 417749 words/s, in_qsize 1, out_qsize 0\n",
      "2018-08-13 11:15:46,497 : INFO : EPOCH 7 - PROGRESS: at 56.80% examples, 427233 words/s, in_qsize 1, out_qsize 0\n",
      "2018-08-13 11:15:47,510 : INFO : EPOCH 7 - PROGRESS: at 74.52% examples, 427382 words/s, in_qsize 1, out_qsize 0\n",
      "2018-08-13 11:15:48,515 : INFO : EPOCH 7 - PROGRESS: at 89.93% examples, 427474 words/s, in_qsize 1, out_qsize 0\n",
      "2018-08-13 11:15:49,137 : INFO : worker thread finished; awaiting finish of 0 more threads\n",
      "2018-08-13 11:15:49,138 : INFO : EPOCH - 7 : training on 3088388 raw words (2434709 effective words) took 5.7s, 429590 effective words/s\n",
      "2018-08-13 11:15:50,151 : INFO : EPOCH 8 - PROGRESS: at 18.65% examples, 423143 words/s, in_qsize 1, out_qsize 0\n",
      "2018-08-13 11:15:51,155 : INFO : EPOCH 8 - PROGRESS: at 38.69% examples, 435840 words/s, in_qsize 1, out_qsize 0\n",
      "2018-08-13 11:15:52,172 : INFO : EPOCH 8 - PROGRESS: at 58.67% examples, 440539 words/s, in_qsize 2, out_qsize 0\n",
      "2018-08-13 11:15:53,186 : INFO : EPOCH 8 - PROGRESS: at 76.63% examples, 443057 words/s, in_qsize 1, out_qsize 0\n",
      "2018-08-13 11:15:54,194 : INFO : EPOCH 8 - PROGRESS: at 92.97% examples, 444279 words/s, in_qsize 1, out_qsize 0\n",
      "2018-08-13 11:15:54,623 : INFO : worker thread finished; awaiting finish of 0 more threads\n",
      "2018-08-13 11:15:54,623 : INFO : EPOCH - 8 : training on 3088388 raw words (2435588 effective words) took 5.5s, 444578 effective words/s\n",
      "2018-08-13 11:15:55,639 : INFO : EPOCH 9 - PROGRESS: at 19.66% examples, 445138 words/s, in_qsize 1, out_qsize 0\n",
      "2018-08-13 11:15:56,641 : INFO : EPOCH 9 - PROGRESS: at 38.36% examples, 431464 words/s, in_qsize 1, out_qsize 0\n",
      "2018-08-13 11:15:57,645 : INFO : EPOCH 9 - PROGRESS: at 57.91% examples, 436809 words/s, in_qsize 1, out_qsize 0\n",
      "2018-08-13 11:15:58,654 : INFO : EPOCH 9 - PROGRESS: at 75.91% examples, 438865 words/s, in_qsize 1, out_qsize 0\n",
      "2018-08-13 11:15:59,658 : INFO : EPOCH 9 - PROGRESS: at 91.92% examples, 439764 words/s, in_qsize 1, out_qsize 0\n",
      "2018-08-13 11:16:00,163 : INFO : worker thread finished; awaiting finish of 0 more threads\n",
      "2018-08-13 11:16:00,164 : INFO : EPOCH - 9 : training on 3088388 raw words (2435323 effective words) took 5.5s, 439955 effective words/s\n",
      "2018-08-13 11:16:01,182 : INFO : EPOCH 10 - PROGRESS: at 20.03% examples, 451303 words/s, in_qsize 1, out_qsize 0\n",
      "2018-08-13 11:16:02,186 : INFO : EPOCH 10 - PROGRESS: at 40.12% examples, 449789 words/s, in_qsize 2, out_qsize 0\n",
      "2018-08-13 11:16:03,191 : INFO : EPOCH 10 - PROGRESS: at 59.59% examples, 449142 words/s, in_qsize 1, out_qsize 0\n",
      "2018-08-13 11:16:04,200 : INFO : EPOCH 10 - PROGRESS: at 77.15% examples, 447898 words/s, in_qsize 2, out_qsize 0\n",
      "2018-08-13 11:16:05,206 : INFO : EPOCH 10 - PROGRESS: at 93.26% examples, 446843 words/s, in_qsize 2, out_qsize 0\n",
      "2018-08-13 11:16:05,628 : INFO : worker thread finished; awaiting finish of 0 more threads\n",
      "2018-08-13 11:16:05,628 : INFO : EPOCH - 10 : training on 3088388 raw words (2435807 effective words) took 5.5s, 446175 effective words/s\n",
      "2018-08-13 11:16:06,635 : INFO : EPOCH 11 - PROGRESS: at 20.03% examples, 455624 words/s, in_qsize 1, out_qsize 0\n"
     ]
    },
    {
     "name": "stderr",
     "output_type": "stream",
     "text": [
      "2018-08-13 11:16:07,636 : INFO : EPOCH 11 - PROGRESS: at 40.12% examples, 452657 words/s, in_qsize 1, out_qsize 0\n",
      "2018-08-13 11:16:08,642 : INFO : EPOCH 11 - PROGRESS: at 59.59% examples, 450889 words/s, in_qsize 1, out_qsize 0\n",
      "2018-08-13 11:16:09,646 : INFO : EPOCH 11 - PROGRESS: at 77.15% examples, 449878 words/s, in_qsize 1, out_qsize 0\n",
      "2018-08-13 11:16:10,650 : INFO : EPOCH 11 - PROGRESS: at 92.97% examples, 447104 words/s, in_qsize 1, out_qsize 0\n",
      "2018-08-13 11:16:11,096 : INFO : worker thread finished; awaiting finish of 0 more threads\n",
      "2018-08-13 11:16:11,097 : INFO : EPOCH - 11 : training on 3088388 raw words (2436733 effective words) took 5.5s, 445784 effective words/s\n",
      "2018-08-13 11:16:12,105 : INFO : EPOCH 12 - PROGRESS: at 17.96% examples, 409425 words/s, in_qsize 1, out_qsize 0\n",
      "2018-08-13 11:16:13,118 : INFO : EPOCH 12 - PROGRESS: at 36.45% examples, 407434 words/s, in_qsize 1, out_qsize 0\n",
      "2018-08-13 11:16:14,132 : INFO : EPOCH 12 - PROGRESS: at 55.04% examples, 414117 words/s, in_qsize 1, out_qsize 0\n",
      "2018-08-13 11:16:15,148 : INFO : EPOCH 12 - PROGRESS: at 72.94% examples, 415353 words/s, in_qsize 2, out_qsize 0\n",
      "2018-08-13 11:16:16,153 : INFO : EPOCH 12 - PROGRESS: at 88.71% examples, 420931 words/s, in_qsize 1, out_qsize 0\n",
      "2018-08-13 11:16:16,864 : INFO : worker thread finished; awaiting finish of 0 more threads\n",
      "2018-08-13 11:16:16,864 : INFO : EPOCH - 12 : training on 3088388 raw words (2435223 effective words) took 5.8s, 422742 effective words/s\n",
      "2018-08-13 11:16:17,875 : INFO : EPOCH 13 - PROGRESS: at 19.31% examples, 439908 words/s, in_qsize 2, out_qsize 0\n",
      "2018-08-13 11:16:18,889 : INFO : EPOCH 13 - PROGRESS: at 38.36% examples, 429953 words/s, in_qsize 2, out_qsize 0\n",
      "2018-08-13 11:16:19,895 : INFO : EPOCH 13 - PROGRESS: at 54.32% examples, 409382 words/s, in_qsize 1, out_qsize 0\n",
      "2018-08-13 11:16:20,898 : INFO : EPOCH 13 - PROGRESS: at 71.56% examples, 407393 words/s, in_qsize 2, out_qsize 0\n",
      "2018-08-13 11:16:21,917 : INFO : EPOCH 13 - PROGRESS: at 83.96% examples, 395025 words/s, in_qsize 1, out_qsize 0\n",
      "2018-08-13 11:16:22,932 : INFO : EPOCH 13 - PROGRESS: at 96.10% examples, 384157 words/s, in_qsize 1, out_qsize 0\n",
      "2018-08-13 11:16:23,220 : INFO : worker thread finished; awaiting finish of 0 more threads\n",
      "2018-08-13 11:16:23,221 : INFO : EPOCH - 13 : training on 3088388 raw words (2435686 effective words) took 6.4s, 383551 effective words/s\n",
      "2018-08-13 11:16:24,235 : INFO : EPOCH 14 - PROGRESS: at 17.64% examples, 397735 words/s, in_qsize 1, out_qsize 0\n",
      "2018-08-13 11:16:25,253 : INFO : EPOCH 14 - PROGRESS: at 35.74% examples, 396641 words/s, in_qsize 1, out_qsize 0\n",
      "2018-08-13 11:16:26,258 : INFO : EPOCH 14 - PROGRESS: at 53.04% examples, 397893 words/s, in_qsize 1, out_qsize 0\n",
      "2018-08-13 11:16:27,270 : INFO : EPOCH 14 - PROGRESS: at 69.93% examples, 395892 words/s, in_qsize 2, out_qsize 0\n",
      "2018-08-13 11:16:28,288 : INFO : EPOCH 14 - PROGRESS: at 83.65% examples, 392210 words/s, in_qsize 1, out_qsize 0\n",
      "2018-08-13 11:16:29,294 : INFO : EPOCH 14 - PROGRESS: at 100.00% examples, 401315 words/s, in_qsize 0, out_qsize 1\n",
      "2018-08-13 11:16:29,295 : INFO : worker thread finished; awaiting finish of 0 more threads\n",
      "2018-08-13 11:16:29,295 : INFO : EPOCH - 14 : training on 3088388 raw words (2435994 effective words) took 6.1s, 401222 effective words/s\n",
      "2018-08-13 11:16:30,301 : INFO : EPOCH 15 - PROGRESS: at 19.66% examples, 448914 words/s, in_qsize 1, out_qsize 0\n",
      "2018-08-13 11:16:31,309 : INFO : EPOCH 15 - PROGRESS: at 40.12% examples, 451819 words/s, in_qsize 1, out_qsize 0\n",
      "2018-08-13 11:16:32,322 : INFO : EPOCH 15 - PROGRESS: at 58.27% examples, 438734 words/s, in_qsize 2, out_qsize 0\n",
      "2018-08-13 11:16:33,337 : INFO : EPOCH 15 - PROGRESS: at 76.14% examples, 439642 words/s, in_qsize 2, out_qsize 0\n",
      "2018-08-13 11:16:34,339 : INFO : EPOCH 15 - PROGRESS: at 91.38% examples, 435959 words/s, in_qsize 1, out_qsize 0\n",
      "2018-08-13 11:16:34,896 : INFO : worker thread finished; awaiting finish of 0 more threads\n",
      "2018-08-13 11:16:34,896 : INFO : EPOCH - 15 : training on 3088388 raw words (2436388 effective words) took 5.6s, 435321 effective words/s\n",
      "2018-08-13 11:16:35,925 : INFO : EPOCH 16 - PROGRESS: at 17.64% examples, 393404 words/s, in_qsize 1, out_qsize 0\n",
      "2018-08-13 11:16:36,927 : INFO : EPOCH 16 - PROGRESS: at 37.36% examples, 417038 words/s, in_qsize 1, out_qsize 0\n",
      "2018-08-13 11:16:37,936 : INFO : EPOCH 16 - PROGRESS: at 56.46% examples, 423890 words/s, in_qsize 1, out_qsize 0\n",
      "2018-08-13 11:16:38,952 : INFO : EPOCH 16 - PROGRESS: at 74.52% examples, 426511 words/s, in_qsize 1, out_qsize 0\n",
      "2018-08-13 11:16:39,954 : INFO : EPOCH 16 - PROGRESS: at 89.93% examples, 427043 words/s, in_qsize 2, out_qsize 0\n",
      "2018-08-13 11:16:40,577 : INFO : worker thread finished; awaiting finish of 0 more threads\n",
      "2018-08-13 11:16:40,577 : INFO : EPOCH - 16 : training on 3088388 raw words (2435185 effective words) took 5.7s, 429160 effective words/s\n",
      "2018-08-13 11:16:41,586 : INFO : EPOCH 17 - PROGRESS: at 19.31% examples, 440406 words/s, in_qsize 1, out_qsize 0\n",
      "2018-08-13 11:16:42,590 : INFO : EPOCH 17 - PROGRESS: at 39.40% examples, 444318 words/s, in_qsize 1, out_qsize 0\n",
      "2018-08-13 11:16:43,606 : INFO : EPOCH 17 - PROGRESS: at 59.26% examples, 446316 words/s, in_qsize 2, out_qsize 0\n",
      "2018-08-13 11:16:44,609 : INFO : EPOCH 17 - PROGRESS: at 76.63% examples, 444456 words/s, in_qsize 2, out_qsize 0\n",
      "2018-08-13 11:16:45,625 : INFO : EPOCH 17 - PROGRESS: at 92.72% examples, 443121 words/s, in_qsize 2, out_qsize 0\n",
      "2018-08-13 11:16:46,086 : INFO : worker thread finished; awaiting finish of 0 more threads\n",
      "2018-08-13 11:16:46,086 : INFO : EPOCH - 17 : training on 3088388 raw words (2435178 effective words) took 5.5s, 442400 effective words/s\n",
      "2018-08-13 11:16:47,090 : INFO : EPOCH 18 - PROGRESS: at 18.65% examples, 426022 words/s, in_qsize 1, out_qsize 0\n",
      "2018-08-13 11:16:48,098 : INFO : EPOCH 18 - PROGRESS: at 38.69% examples, 436347 words/s, in_qsize 1, out_qsize 0\n",
      "2018-08-13 11:16:49,098 : INFO : EPOCH 18 - PROGRESS: at 58.27% examples, 440783 words/s, in_qsize 2, out_qsize 0\n",
      "2018-08-13 11:16:50,104 : INFO : EPOCH 18 - PROGRESS: at 76.14% examples, 442180 words/s, in_qsize 1, out_qsize 0\n",
      "2018-08-13 11:16:51,121 : INFO : EPOCH 18 - PROGRESS: at 92.44% examples, 442797 words/s, in_qsize 1, out_qsize 0\n",
      "2018-08-13 11:16:51,597 : INFO : worker thread finished; awaiting finish of 0 more threads\n",
      "2018-08-13 11:16:51,598 : INFO : EPOCH - 18 : training on 3088388 raw words (2435981 effective words) took 5.5s, 442269 effective words/s\n",
      "2018-08-13 11:16:52,610 : INFO : EPOCH 19 - PROGRESS: at 19.66% examples, 445939 words/s, in_qsize 2, out_qsize 0\n",
      "2018-08-13 11:16:53,624 : INFO : EPOCH 19 - PROGRESS: at 39.07% examples, 437125 words/s, in_qsize 2, out_qsize 0\n",
      "2018-08-13 11:16:54,629 : INFO : EPOCH 19 - PROGRESS: at 57.91% examples, 435416 words/s, in_qsize 1, out_qsize 0\n",
      "2018-08-13 11:16:55,642 : INFO : EPOCH 19 - PROGRESS: at 75.91% examples, 437356 words/s, in_qsize 1, out_qsize 0\n",
      "2018-08-13 11:16:56,649 : INFO : EPOCH 19 - PROGRESS: at 91.92% examples, 438335 words/s, in_qsize 1, out_qsize 0\n",
      "2018-08-13 11:16:57,149 : INFO : worker thread finished; awaiting finish of 0 more threads\n",
      "2018-08-13 11:16:57,150 : INFO : EPOCH - 19 : training on 3088388 raw words (2435969 effective words) took 5.5s, 439099 effective words/s\n",
      "2018-08-13 11:16:58,168 : INFO : EPOCH 20 - PROGRESS: at 20.03% examples, 451429 words/s, in_qsize 1, out_qsize 0\n",
      "2018-08-13 11:16:59,184 : INFO : EPOCH 20 - PROGRESS: at 40.12% examples, 446992 words/s, in_qsize 2, out_qsize 0\n",
      "2018-08-13 11:17:00,201 : INFO : EPOCH 20 - PROGRESS: at 58.27% examples, 434993 words/s, in_qsize 2, out_qsize 0\n",
      "2018-08-13 11:17:01,216 : INFO : EPOCH 20 - PROGRESS: at 75.35% examples, 431015 words/s, in_qsize 2, out_qsize 0\n",
      "2018-08-13 11:17:02,219 : INFO : EPOCH 20 - PROGRESS: at 88.36% examples, 418160 words/s, in_qsize 1, out_qsize 0\n",
      "2018-08-13 11:17:02,958 : INFO : worker thread finished; awaiting finish of 0 more threads\n",
      "2018-08-13 11:17:02,959 : INFO : EPOCH - 20 : training on 3088388 raw words (2435410 effective words) took 5.8s, 419559 effective words/s\n",
      "2018-08-13 11:17:03,971 : INFO : EPOCH 21 - PROGRESS: at 18.32% examples, 415002 words/s, in_qsize 1, out_qsize 0\n"
     ]
    },
    {
     "name": "stderr",
     "output_type": "stream",
     "text": [
      "2018-08-13 11:17:04,980 : INFO : EPOCH 21 - PROGRESS: at 37.66% examples, 422851 words/s, in_qsize 1, out_qsize 0\n",
      "2018-08-13 11:17:05,994 : INFO : EPOCH 21 - PROGRESS: at 55.04% examples, 414026 words/s, in_qsize 2, out_qsize 0\n",
      "2018-08-13 11:17:07,008 : INFO : EPOCH 21 - PROGRESS: at 71.56% examples, 405775 words/s, in_qsize 1, out_qsize 0\n",
      "2018-08-13 11:17:08,029 : INFO : EPOCH 21 - PROGRESS: at 87.00% examples, 410519 words/s, in_qsize 1, out_qsize 0\n",
      "2018-08-13 11:17:08,880 : INFO : worker thread finished; awaiting finish of 0 more threads\n",
      "2018-08-13 11:17:08,881 : INFO : EPOCH - 21 : training on 3088388 raw words (2435658 effective words) took 5.9s, 411583 effective words/s\n",
      "2018-08-13 11:17:09,897 : INFO : EPOCH 22 - PROGRESS: at 16.90% examples, 381858 words/s, in_qsize 1, out_qsize 0\n",
      "2018-08-13 11:17:10,912 : INFO : EPOCH 22 - PROGRESS: at 36.07% examples, 401051 words/s, in_qsize 1, out_qsize 0\n",
      "2018-08-13 11:17:11,918 : INFO : EPOCH 22 - PROGRESS: at 52.68% examples, 395497 words/s, in_qsize 1, out_qsize 0\n",
      "2018-08-13 11:17:12,925 : INFO : EPOCH 22 - PROGRESS: at 69.01% examples, 390642 words/s, in_qsize 1, out_qsize 0\n",
      "2018-08-13 11:17:13,932 : INFO : EPOCH 22 - PROGRESS: at 81.68% examples, 382846 words/s, in_qsize 1, out_qsize 0\n",
      "2018-08-13 11:17:14,957 : INFO : EPOCH 22 - PROGRESS: at 96.10% examples, 383604 words/s, in_qsize 1, out_qsize 0\n",
      "2018-08-13 11:17:15,245 : INFO : worker thread finished; awaiting finish of 0 more threads\n",
      "2018-08-13 11:17:15,245 : INFO : EPOCH - 22 : training on 3088388 raw words (2436159 effective words) took 6.4s, 383059 effective words/s\n",
      "2018-08-13 11:17:16,263 : INFO : EPOCH 23 - PROGRESS: at 18.96% examples, 428220 words/s, in_qsize 1, out_qsize 0\n",
      "2018-08-13 11:17:17,279 : INFO : EPOCH 23 - PROGRESS: at 38.69% examples, 431481 words/s, in_qsize 1, out_qsize 0\n",
      "2018-08-13 11:17:18,299 : INFO : EPOCH 23 - PROGRESS: at 56.46% examples, 421621 words/s, in_qsize 1, out_qsize 0\n",
      "2018-08-13 11:17:19,310 : INFO : EPOCH 23 - PROGRESS: at 73.45% examples, 417724 words/s, in_qsize 1, out_qsize 0\n",
      "2018-08-13 11:17:20,315 : INFO : EPOCH 23 - PROGRESS: at 88.36% examples, 418114 words/s, in_qsize 1, out_qsize 0\n",
      "2018-08-13 11:17:21,023 : INFO : worker thread finished; awaiting finish of 0 more threads\n",
      "2018-08-13 11:17:21,024 : INFO : EPOCH - 23 : training on 3088388 raw words (2435545 effective words) took 5.8s, 421776 effective words/s\n",
      "2018-08-13 11:17:22,037 : INFO : EPOCH 24 - PROGRESS: at 19.66% examples, 445633 words/s, in_qsize 2, out_qsize 0\n",
      "2018-08-13 11:17:23,039 : INFO : EPOCH 24 - PROGRESS: at 39.76% examples, 447193 words/s, in_qsize 1, out_qsize 0\n",
      "2018-08-13 11:17:24,046 : INFO : EPOCH 24 - PROGRESS: at 59.26% examples, 447169 words/s, in_qsize 1, out_qsize 0\n",
      "2018-08-13 11:17:25,051 : INFO : EPOCH 24 - PROGRESS: at 76.40% examples, 443064 words/s, in_qsize 1, out_qsize 0\n",
      "2018-08-13 11:17:26,062 : INFO : EPOCH 24 - PROGRESS: at 92.16% examples, 440986 words/s, in_qsize 1, out_qsize 0\n",
      "2018-08-13 11:17:26,552 : INFO : worker thread finished; awaiting finish of 0 more threads\n",
      "2018-08-13 11:17:26,553 : INFO : EPOCH - 24 : training on 3088388 raw words (2435723 effective words) took 5.5s, 440917 effective words/s\n",
      "2018-08-13 11:17:27,568 : INFO : EPOCH 25 - PROGRESS: at 20.03% examples, 452522 words/s, in_qsize 1, out_qsize 0\n",
      "2018-08-13 11:17:28,582 : INFO : EPOCH 25 - PROGRESS: at 40.50% examples, 452325 words/s, in_qsize 2, out_qsize 0\n",
      "2018-08-13 11:17:29,586 : INFO : EPOCH 25 - PROGRESS: at 59.93% examples, 450867 words/s, in_qsize 1, out_qsize 0\n",
      "2018-08-13 11:17:30,597 : INFO : EPOCH 25 - PROGRESS: at 77.41% examples, 449103 words/s, in_qsize 1, out_qsize 0\n",
      "2018-08-13 11:17:31,615 : INFO : EPOCH 25 - PROGRESS: at 93.79% examples, 448239 words/s, in_qsize 1, out_qsize 0\n",
      "2018-08-13 11:17:32,000 : INFO : worker thread finished; awaiting finish of 0 more threads\n",
      "2018-08-13 11:17:32,001 : INFO : EPOCH - 25 : training on 3088388 raw words (2436054 effective words) took 5.4s, 447492 effective words/s\n",
      "2018-08-13 11:17:33,022 : INFO : EPOCH 26 - PROGRESS: at 19.31% examples, 434838 words/s, in_qsize 1, out_qsize 0\n",
      "2018-08-13 11:17:34,023 : INFO : EPOCH 26 - PROGRESS: at 39.40% examples, 442069 words/s, in_qsize 1, out_qsize 0\n",
      "2018-08-13 11:17:35,040 : INFO : EPOCH 26 - PROGRESS: at 58.96% examples, 442189 words/s, in_qsize 1, out_qsize 0\n",
      "2018-08-13 11:17:36,046 : INFO : EPOCH 26 - PROGRESS: at 76.40% examples, 441157 words/s, in_qsize 1, out_qsize 0\n",
      "2018-08-13 11:17:37,053 : INFO : EPOCH 26 - PROGRESS: at 92.44% examples, 441400 words/s, in_qsize 1, out_qsize 0\n",
      "2018-08-13 11:17:37,519 : INFO : worker thread finished; awaiting finish of 0 more threads\n",
      "2018-08-13 11:17:37,519 : INFO : EPOCH - 26 : training on 3088388 raw words (2435979 effective words) took 5.5s, 441802 effective words/s\n",
      "2018-08-13 11:17:38,527 : INFO : EPOCH 27 - PROGRESS: at 20.03% examples, 455658 words/s, in_qsize 1, out_qsize 0\n",
      "2018-08-13 11:17:39,539 : INFO : EPOCH 27 - PROGRESS: at 40.50% examples, 454140 words/s, in_qsize 1, out_qsize 0\n",
      "2018-08-13 11:17:40,539 : INFO : EPOCH 27 - PROGRESS: at 59.26% examples, 447456 words/s, in_qsize 2, out_qsize 0\n",
      "2018-08-13 11:17:41,556 : INFO : EPOCH 27 - PROGRESS: at 76.88% examples, 445898 words/s, in_qsize 1, out_qsize 0\n",
      "2018-08-13 11:17:42,573 : INFO : EPOCH 27 - PROGRESS: at 93.26% examples, 445791 words/s, in_qsize 1, out_qsize 0\n",
      "2018-08-13 11:17:42,988 : INFO : worker thread finished; awaiting finish of 0 more threads\n",
      "2018-08-13 11:17:42,989 : INFO : EPOCH - 27 : training on 3088388 raw words (2435497 effective words) took 5.5s, 445647 effective words/s\n",
      "2018-08-13 11:17:44,003 : INFO : EPOCH 28 - PROGRESS: at 20.03% examples, 453164 words/s, in_qsize 1, out_qsize 0\n",
      "2018-08-13 11:17:45,018 : INFO : EPOCH 28 - PROGRESS: at 38.01% examples, 425242 words/s, in_qsize 1, out_qsize 0\n",
      "2018-08-13 11:17:46,025 : INFO : EPOCH 28 - PROGRESS: at 56.80% examples, 427041 words/s, in_qsize 1, out_qsize 0\n",
      "2018-08-13 11:17:47,052 : INFO : EPOCH 28 - PROGRESS: at 73.93% examples, 421963 words/s, in_qsize 2, out_qsize 0\n",
      "2018-08-13 11:17:48,069 : INFO : EPOCH 28 - PROGRESS: at 88.36% examples, 417420 words/s, in_qsize 1, out_qsize 0\n",
      "2018-08-13 11:17:48,806 : INFO : worker thread finished; awaiting finish of 0 more threads\n",
      "2018-08-13 11:17:48,806 : INFO : EPOCH - 28 : training on 3088388 raw words (2436075 effective words) took 5.8s, 419097 effective words/s\n",
      "2018-08-13 11:17:49,818 : INFO : EPOCH 29 - PROGRESS: at 19.66% examples, 446227 words/s, in_qsize 1, out_qsize 0\n",
      "2018-08-13 11:17:50,825 : INFO : EPOCH 29 - PROGRESS: at 39.76% examples, 446520 words/s, in_qsize 1, out_qsize 0\n",
      "2018-08-13 11:17:51,831 : INFO : EPOCH 29 - PROGRESS: at 59.26% examples, 446788 words/s, in_qsize 1, out_qsize 0\n",
      "2018-08-13 11:17:52,838 : INFO : EPOCH 29 - PROGRESS: at 76.88% examples, 446280 words/s, in_qsize 1, out_qsize 0\n",
      "2018-08-13 11:17:53,855 : INFO : EPOCH 29 - PROGRESS: at 93.26% examples, 446110 words/s, in_qsize 1, out_qsize 0\n",
      "2018-08-13 11:17:54,273 : INFO : worker thread finished; awaiting finish of 0 more threads\n",
      "2018-08-13 11:17:54,274 : INFO : EPOCH - 29 : training on 3088388 raw words (2435136 effective words) took 5.5s, 445717 effective words/s\n",
      "2018-08-13 11:17:55,277 : INFO : EPOCH 30 - PROGRESS: at 19.66% examples, 449592 words/s, in_qsize 1, out_qsize 0\n",
      "2018-08-13 11:17:56,295 : INFO : EPOCH 30 - PROGRESS: at 40.12% examples, 449751 words/s, in_qsize 1, out_qsize 0\n",
      "2018-08-13 11:17:57,305 : INFO : EPOCH 30 - PROGRESS: at 59.26% examples, 445802 words/s, in_qsize 1, out_qsize 0\n",
      "2018-08-13 11:17:58,321 : INFO : EPOCH 30 - PROGRESS: at 76.40% examples, 440891 words/s, in_qsize 1, out_qsize 0\n",
      "2018-08-13 11:17:59,333 : INFO : EPOCH 30 - PROGRESS: at 92.16% examples, 439187 words/s, in_qsize 2, out_qsize 0\n",
      "2018-08-13 11:17:59,823 : INFO : worker thread finished; awaiting finish of 0 more threads\n",
      "2018-08-13 11:17:59,823 : INFO : EPOCH - 30 : training on 3088388 raw words (2436254 effective words) took 5.5s, 439252 effective words/s\n",
      "2018-08-13 11:18:00,837 : INFO : EPOCH 31 - PROGRESS: at 19.66% examples, 444647 words/s, in_qsize 1, out_qsize 0\n",
      "2018-08-13 11:18:01,840 : INFO : EPOCH 31 - PROGRESS: at 39.40% examples, 442755 words/s, in_qsize 1, out_qsize 0\n"
     ]
    },
    {
     "name": "stderr",
     "output_type": "stream",
     "text": [
      "2018-08-13 11:18:02,859 : INFO : EPOCH 31 - PROGRESS: at 57.91% examples, 434419 words/s, in_qsize 2, out_qsize 0\n",
      "2018-08-13 11:18:03,871 : INFO : EPOCH 31 - PROGRESS: at 74.52% examples, 426929 words/s, in_qsize 1, out_qsize 0\n",
      "2018-08-13 11:18:04,879 : INFO : EPOCH 31 - PROGRESS: at 88.11% examples, 417634 words/s, in_qsize 1, out_qsize 0\n",
      "2018-08-13 11:18:05,630 : INFO : worker thread finished; awaiting finish of 0 more threads\n",
      "2018-08-13 11:18:05,630 : INFO : EPOCH - 31 : training on 3088388 raw words (2435502 effective words) took 5.8s, 419619 effective words/s\n",
      "2018-08-13 11:18:06,641 : INFO : EPOCH 32 - PROGRESS: at 17.64% examples, 400073 words/s, in_qsize 1, out_qsize 0\n",
      "2018-08-13 11:18:07,649 : INFO : EPOCH 32 - PROGRESS: at 36.79% examples, 411693 words/s, in_qsize 1, out_qsize 0\n",
      "2018-08-13 11:18:08,657 : INFO : EPOCH 32 - PROGRESS: at 52.68% examples, 397048 words/s, in_qsize 1, out_qsize 0\n",
      "2018-08-13 11:18:09,671 : INFO : EPOCH 32 - PROGRESS: at 71.84% examples, 408700 words/s, in_qsize 2, out_qsize 0\n",
      "2018-08-13 11:18:10,685 : INFO : EPOCH 32 - PROGRESS: at 87.28% examples, 413369 words/s, in_qsize 1, out_qsize 0\n",
      "2018-08-13 11:18:11,525 : INFO : worker thread finished; awaiting finish of 0 more threads\n",
      "2018-08-13 11:18:11,525 : INFO : EPOCH - 32 : training on 3088388 raw words (2435501 effective words) took 5.9s, 413538 effective words/s\n",
      "2018-08-13 11:18:12,530 : INFO : EPOCH 33 - PROGRESS: at 17.96% examples, 409874 words/s, in_qsize 1, out_qsize 0\n",
      "2018-08-13 11:18:13,542 : INFO : EPOCH 33 - PROGRESS: at 37.66% examples, 423732 words/s, in_qsize 1, out_qsize 0\n",
      "2018-08-13 11:18:14,555 : INFO : EPOCH 33 - PROGRESS: at 55.78% examples, 419899 words/s, in_qsize 1, out_qsize 0\n",
      "2018-08-13 11:18:15,563 : INFO : EPOCH 33 - PROGRESS: at 74.22% examples, 426306 words/s, in_qsize 1, out_qsize 0\n",
      "2018-08-13 11:18:16,565 : INFO : EPOCH 33 - PROGRESS: at 88.36% examples, 420739 words/s, in_qsize 1, out_qsize 0\n",
      "2018-08-13 11:18:17,274 : INFO : worker thread finished; awaiting finish of 0 more threads\n",
      "2018-08-13 11:18:17,275 : INFO : EPOCH - 33 : training on 3088388 raw words (2436248 effective words) took 5.7s, 424013 effective words/s\n",
      "2018-08-13 11:18:18,281 : INFO : EPOCH 34 - PROGRESS: at 17.96% examples, 409107 words/s, in_qsize 1, out_qsize 0\n",
      "2018-08-13 11:18:19,289 : INFO : EPOCH 34 - PROGRESS: at 36.07% examples, 404451 words/s, in_qsize 1, out_qsize 0\n",
      "2018-08-13 11:18:20,304 : INFO : EPOCH 34 - PROGRESS: at 52.01% examples, 391372 words/s, in_qsize 1, out_qsize 0\n",
      "2018-08-13 11:18:21,307 : INFO : EPOCH 34 - PROGRESS: at 69.31% examples, 393843 words/s, in_qsize 2, out_qsize 0\n",
      "2018-08-13 11:18:22,319 : INFO : EPOCH 34 - PROGRESS: at 85.62% examples, 404851 words/s, in_qsize 1, out_qsize 0\n",
      "2018-08-13 11:18:23,197 : INFO : worker thread finished; awaiting finish of 0 more threads\n",
      "2018-08-13 11:18:23,198 : INFO : EPOCH - 34 : training on 3088388 raw words (2435951 effective words) took 5.9s, 411569 effective words/s\n",
      "2018-08-13 11:18:24,218 : INFO : EPOCH 35 - PROGRESS: at 16.54% examples, 372831 words/s, in_qsize 1, out_qsize 0\n",
      "2018-08-13 11:18:25,229 : INFO : EPOCH 35 - PROGRESS: at 37.05% examples, 412927 words/s, in_qsize 2, out_qsize 0\n",
      "2018-08-13 11:18:26,231 : INFO : EPOCH 35 - PROGRESS: at 54.67% examples, 411693 words/s, in_qsize 1, out_qsize 0\n",
      "2018-08-13 11:18:27,236 : INFO : EPOCH 35 - PROGRESS: at 71.84% examples, 408885 words/s, in_qsize 1, out_qsize 0\n",
      "2018-08-13 11:18:28,248 : INFO : EPOCH 35 - PROGRESS: at 87.28% examples, 413717 words/s, in_qsize 1, out_qsize 0\n",
      "2018-08-13 11:18:29,087 : INFO : worker thread finished; awaiting finish of 0 more threads\n",
      "2018-08-13 11:18:29,087 : INFO : EPOCH - 35 : training on 3088388 raw words (2436115 effective words) took 5.9s, 413931 effective words/s\n",
      "2018-08-13 11:18:30,092 : INFO : EPOCH 36 - PROGRESS: at 18.32% examples, 417197 words/s, in_qsize 2, out_qsize 0\n",
      "2018-08-13 11:18:31,093 : INFO : EPOCH 36 - PROGRESS: at 37.05% examples, 417669 words/s, in_qsize 2, out_qsize 0\n",
      "2018-08-13 11:18:32,111 : INFO : EPOCH 36 - PROGRESS: at 56.46% examples, 425558 words/s, in_qsize 1, out_qsize 0\n",
      "2018-08-13 11:18:33,116 : INFO : EPOCH 36 - PROGRESS: at 73.93% examples, 425161 words/s, in_qsize 1, out_qsize 0\n",
      "2018-08-13 11:18:34,126 : INFO : EPOCH 36 - PROGRESS: at 89.61% examples, 426764 words/s, in_qsize 1, out_qsize 0\n",
      "2018-08-13 11:18:34,786 : INFO : worker thread finished; awaiting finish of 0 more threads\n",
      "2018-08-13 11:18:34,786 : INFO : EPOCH - 36 : training on 3088388 raw words (2435163 effective words) took 5.7s, 427532 effective words/s\n",
      "2018-08-13 11:18:35,795 : INFO : EPOCH 37 - PROGRESS: at 19.31% examples, 439800 words/s, in_qsize 1, out_qsize 0\n",
      "2018-08-13 11:18:36,813 : INFO : EPOCH 37 - PROGRESS: at 38.36% examples, 429128 words/s, in_qsize 1, out_qsize 0\n",
      "2018-08-13 11:18:37,830 : INFO : EPOCH 37 - PROGRESS: at 56.80% examples, 425671 words/s, in_qsize 1, out_qsize 0\n",
      "2018-08-13 11:18:38,846 : INFO : EPOCH 37 - PROGRESS: at 73.93% examples, 422037 words/s, in_qsize 1, out_qsize 0\n",
      "2018-08-13 11:18:39,870 : INFO : EPOCH 37 - PROGRESS: at 88.36% examples, 417000 words/s, in_qsize 1, out_qsize 0\n",
      "2018-08-13 11:18:40,647 : INFO : worker thread finished; awaiting finish of 0 more threads\n",
      "2018-08-13 11:18:40,648 : INFO : EPOCH - 37 : training on 3088388 raw words (2436153 effective words) took 5.9s, 415887 effective words/s\n",
      "2018-08-13 11:18:41,659 : INFO : EPOCH 38 - PROGRESS: at 19.66% examples, 446573 words/s, in_qsize 2, out_qsize 0\n",
      "2018-08-13 11:18:42,661 : INFO : EPOCH 38 - PROGRESS: at 37.66% examples, 424028 words/s, in_qsize 1, out_qsize 0\n",
      "2018-08-13 11:18:43,673 : INFO : EPOCH 38 - PROGRESS: at 56.12% examples, 422899 words/s, in_qsize 1, out_qsize 0\n",
      "2018-08-13 11:18:44,676 : INFO : EPOCH 38 - PROGRESS: at 73.45% examples, 421348 words/s, in_qsize 1, out_qsize 0\n",
      "2018-08-13 11:18:45,681 : INFO : EPOCH 38 - PROGRESS: at 88.36% examples, 421223 words/s, in_qsize 1, out_qsize 0\n",
      "2018-08-13 11:18:46,417 : INFO : worker thread finished; awaiting finish of 0 more threads\n",
      "2018-08-13 11:18:46,417 : INFO : EPOCH - 38 : training on 3088388 raw words (2435912 effective words) took 5.8s, 422505 effective words/s\n",
      "2018-08-13 11:18:47,424 : INFO : EPOCH 39 - PROGRESS: at 17.64% examples, 400339 words/s, in_qsize 1, out_qsize 0\n",
      "2018-08-13 11:18:48,433 : INFO : EPOCH 39 - PROGRESS: at 34.65% examples, 387948 words/s, in_qsize 2, out_qsize 0\n",
      "2018-08-13 11:18:49,433 : INFO : EPOCH 39 - PROGRESS: at 53.35% examples, 403132 words/s, in_qsize 1, out_qsize 0\n",
      "2018-08-13 11:18:50,439 : INFO : EPOCH 39 - PROGRESS: at 71.30% examples, 406303 words/s, in_qsize 1, out_qsize 0\n",
      "2018-08-13 11:18:51,451 : INFO : EPOCH 39 - PROGRESS: at 86.16% examples, 408661 words/s, in_qsize 1, out_qsize 0\n",
      "2018-08-13 11:18:52,379 : INFO : worker thread finished; awaiting finish of 0 more threads\n",
      "2018-08-13 11:18:52,380 : INFO : EPOCH - 39 : training on 3088388 raw words (2435472 effective words) took 6.0s, 408650 effective words/s\n",
      "2018-08-13 11:18:53,394 : INFO : EPOCH 40 - PROGRESS: at 15.85% examples, 358902 words/s, in_qsize 1, out_qsize 0\n",
      "2018-08-13 11:18:54,415 : INFO : EPOCH 40 - PROGRESS: at 33.85% examples, 376399 words/s, in_qsize 1, out_qsize 0\n",
      "2018-08-13 11:18:55,441 : INFO : EPOCH 40 - PROGRESS: at 51.04% examples, 379159 words/s, in_qsize 1, out_qsize 0\n",
      "2018-08-13 11:18:56,453 : INFO : EPOCH 40 - PROGRESS: at 69.31% examples, 389613 words/s, in_qsize 1, out_qsize 0\n",
      "2018-08-13 11:18:57,468 : INFO : EPOCH 40 - PROGRESS: at 83.65% examples, 390430 words/s, in_qsize 1, out_qsize 0\n",
      "2018-08-13 11:18:58,470 : INFO : EPOCH 40 - PROGRESS: at 98.27% examples, 392642 words/s, in_qsize 1, out_qsize 0\n",
      "2018-08-13 11:18:58,593 : INFO : worker thread finished; awaiting finish of 0 more threads\n",
      "2018-08-13 11:18:58,594 : INFO : EPOCH - 40 : training on 3088388 raw words (2435380 effective words) took 6.2s, 392073 effective words/s\n",
      "2018-08-13 11:18:59,612 : INFO : EPOCH 41 - PROGRESS: at 19.66% examples, 445281 words/s, in_qsize 1, out_qsize 0\n",
      "2018-08-13 11:19:00,620 : INFO : EPOCH 41 - PROGRESS: at 38.01% examples, 426561 words/s, in_qsize 1, out_qsize 0\n",
      "2018-08-13 11:19:01,630 : INFO : EPOCH 41 - PROGRESS: at 56.46% examples, 424842 words/s, in_qsize 1, out_qsize 0\n"
     ]
    },
    {
     "name": "stderr",
     "output_type": "stream",
     "text": [
      "2018-08-13 11:19:02,645 : INFO : EPOCH 41 - PROGRESS: at 73.93% examples, 423441 words/s, in_qsize 1, out_qsize 0\n",
      "2018-08-13 11:19:03,652 : INFO : EPOCH 41 - PROGRESS: at 87.81% examples, 416518 words/s, in_qsize 1, out_qsize 0\n",
      "2018-08-13 11:19:04,394 : INFO : worker thread finished; awaiting finish of 0 more threads\n",
      "2018-08-13 11:19:04,395 : INFO : EPOCH - 41 : training on 3088388 raw words (2436040 effective words) took 5.8s, 420584 effective words/s\n",
      "2018-08-13 11:19:05,403 : INFO : EPOCH 42 - PROGRESS: at 18.32% examples, 416365 words/s, in_qsize 2, out_qsize 0\n",
      "2018-08-13 11:19:06,403 : INFO : EPOCH 42 - PROGRESS: at 38.36% examples, 433097 words/s, in_qsize 2, out_qsize 0\n",
      "2018-08-13 11:19:07,413 : INFO : EPOCH 42 - PROGRESS: at 57.91% examples, 437202 words/s, in_qsize 2, out_qsize 0\n",
      "2018-08-13 11:19:08,419 : INFO : EPOCH 42 - PROGRESS: at 74.77% examples, 431599 words/s, in_qsize 1, out_qsize 0\n",
      "2018-08-13 11:19:09,419 : INFO : EPOCH 42 - PROGRESS: at 88.36% examples, 421890 words/s, in_qsize 2, out_qsize 0\n",
      "2018-08-13 11:19:10,188 : INFO : worker thread finished; awaiting finish of 0 more threads\n",
      "2018-08-13 11:19:10,189 : INFO : EPOCH - 42 : training on 3088388 raw words (2435599 effective words) took 5.8s, 420660 effective words/s\n",
      "2018-08-13 11:19:11,196 : INFO : EPOCH 43 - PROGRESS: at 18.65% examples, 425327 words/s, in_qsize 1, out_qsize 0\n",
      "2018-08-13 11:19:12,210 : INFO : EPOCH 43 - PROGRESS: at 38.01% examples, 426626 words/s, in_qsize 1, out_qsize 0\n",
      "2018-08-13 11:19:13,216 : INFO : EPOCH 43 - PROGRESS: at 56.12% examples, 422871 words/s, in_qsize 1, out_qsize 0\n",
      "2018-08-13 11:19:14,218 : INFO : EPOCH 43 - PROGRESS: at 74.22% examples, 427293 words/s, in_qsize 1, out_qsize 0\n",
      "2018-08-13 11:19:15,236 : INFO : EPOCH 43 - PROGRESS: at 90.51% examples, 431081 words/s, in_qsize 2, out_qsize 0\n",
      "2018-08-13 11:19:15,819 : INFO : worker thread finished; awaiting finish of 0 more threads\n",
      "2018-08-13 11:19:15,819 : INFO : EPOCH - 43 : training on 3088388 raw words (2436095 effective words) took 5.6s, 433046 effective words/s\n",
      "2018-08-13 11:19:16,830 : INFO : EPOCH 44 - PROGRESS: at 20.37% examples, 462769 words/s, in_qsize 2, out_qsize 0\n",
      "2018-08-13 11:19:17,840 : INFO : EPOCH 44 - PROGRESS: at 40.82% examples, 457914 words/s, in_qsize 1, out_qsize 0\n",
      "2018-08-13 11:19:18,857 : INFO : EPOCH 44 - PROGRESS: at 59.93% examples, 450093 words/s, in_qsize 1, out_qsize 0\n",
      "2018-08-13 11:19:19,874 : INFO : EPOCH 44 - PROGRESS: at 77.41% examples, 447880 words/s, in_qsize 1, out_qsize 0\n",
      "2018-08-13 11:19:20,877 : INFO : EPOCH 44 - PROGRESS: at 93.26% examples, 445425 words/s, in_qsize 1, out_qsize 0\n",
      "2018-08-13 11:19:21,290 : INFO : worker thread finished; awaiting finish of 0 more threads\n",
      "2018-08-13 11:19:21,291 : INFO : EPOCH - 44 : training on 3088388 raw words (2435527 effective words) took 5.5s, 445534 effective words/s\n",
      "2018-08-13 11:19:22,311 : INFO : EPOCH 45 - PROGRESS: at 20.03% examples, 450077 words/s, in_qsize 2, out_qsize 0\n",
      "2018-08-13 11:19:23,312 : INFO : EPOCH 45 - PROGRESS: at 40.12% examples, 449721 words/s, in_qsize 1, out_qsize 0\n",
      "2018-08-13 11:19:24,315 : INFO : EPOCH 45 - PROGRESS: at 59.59% examples, 449331 words/s, in_qsize 2, out_qsize 0\n",
      "2018-08-13 11:19:25,332 : INFO : EPOCH 45 - PROGRESS: at 77.15% examples, 447365 words/s, in_qsize 1, out_qsize 0\n",
      "2018-08-13 11:19:26,347 : INFO : EPOCH 45 - PROGRESS: at 92.72% examples, 442395 words/s, in_qsize 2, out_qsize 0\n",
      "2018-08-13 11:19:26,793 : INFO : worker thread finished; awaiting finish of 0 more threads\n",
      "2018-08-13 11:19:26,793 : INFO : EPOCH - 45 : training on 3088388 raw words (2435443 effective words) took 5.5s, 442946 effective words/s\n",
      "2018-08-13 11:19:27,801 : INFO : EPOCH 46 - PROGRESS: at 20.03% examples, 455849 words/s, in_qsize 1, out_qsize 0\n",
      "2018-08-13 11:19:28,815 : INFO : EPOCH 46 - PROGRESS: at 40.50% examples, 453483 words/s, in_qsize 2, out_qsize 0\n",
      "2018-08-13 11:19:29,818 : INFO : EPOCH 46 - PROGRESS: at 59.93% examples, 451862 words/s, in_qsize 1, out_qsize 0\n",
      "2018-08-13 11:19:30,829 : INFO : EPOCH 46 - PROGRESS: at 77.41% examples, 449707 words/s, in_qsize 1, out_qsize 0\n",
      "2018-08-13 11:19:31,831 : INFO : EPOCH 46 - PROGRESS: at 93.52% examples, 448593 words/s, in_qsize 1, out_qsize 0\n",
      "2018-08-13 11:19:32,221 : INFO : worker thread finished; awaiting finish of 0 more threads\n",
      "2018-08-13 11:19:32,221 : INFO : EPOCH - 46 : training on 3088388 raw words (2434928 effective words) took 5.4s, 448964 effective words/s\n",
      "2018-08-13 11:19:33,237 : INFO : EPOCH 47 - PROGRESS: at 20.03% examples, 452120 words/s, in_qsize 1, out_qsize 0\n",
      "2018-08-13 11:19:34,246 : INFO : EPOCH 47 - PROGRESS: at 40.12% examples, 449213 words/s, in_qsize 1, out_qsize 0\n",
      "2018-08-13 11:19:35,263 : INFO : EPOCH 47 - PROGRESS: at 59.93% examples, 449469 words/s, in_qsize 1, out_qsize 0\n",
      "2018-08-13 11:19:36,269 : INFO : EPOCH 47 - PROGRESS: at 77.15% examples, 446602 words/s, in_qsize 1, out_qsize 0\n",
      "2018-08-13 11:19:37,280 : INFO : EPOCH 47 - PROGRESS: at 93.26% examples, 445258 words/s, in_qsize 1, out_qsize 0\n",
      "2018-08-13 11:19:37,692 : INFO : worker thread finished; awaiting finish of 0 more threads\n",
      "2018-08-13 11:19:37,692 : INFO : EPOCH - 47 : training on 3088388 raw words (2435534 effective words) took 5.5s, 445482 effective words/s\n",
      "2018-08-13 11:19:38,701 : INFO : EPOCH 48 - PROGRESS: at 20.03% examples, 455412 words/s, in_qsize 2, out_qsize 0\n",
      "2018-08-13 11:19:39,716 : INFO : EPOCH 48 - PROGRESS: at 40.50% examples, 453353 words/s, in_qsize 2, out_qsize 0\n",
      "2018-08-13 11:19:40,723 : INFO : EPOCH 48 - PROGRESS: at 59.93% examples, 451213 words/s, in_qsize 1, out_qsize 0\n",
      "2018-08-13 11:19:41,727 : INFO : EPOCH 48 - PROGRESS: at 77.41% examples, 450111 words/s, in_qsize 1, out_qsize 0\n",
      "2018-08-13 11:19:42,732 : INFO : EPOCH 48 - PROGRESS: at 92.16% examples, 440909 words/s, in_qsize 1, out_qsize 0\n",
      "2018-08-13 11:19:43,220 : INFO : worker thread finished; awaiting finish of 0 more threads\n",
      "2018-08-13 11:19:43,220 : INFO : EPOCH - 48 : training on 3088388 raw words (2435799 effective words) took 5.5s, 441015 effective words/s\n",
      "2018-08-13 11:19:44,227 : INFO : EPOCH 49 - PROGRESS: at 18.32% examples, 417431 words/s, in_qsize 1, out_qsize 0\n",
      "2018-08-13 11:19:45,232 : INFO : EPOCH 49 - PROGRESS: at 36.79% examples, 412893 words/s, in_qsize 1, out_qsize 0\n",
      "2018-08-13 11:19:46,242 : INFO : EPOCH 49 - PROGRESS: at 56.12% examples, 423610 words/s, in_qsize 2, out_qsize 0\n",
      "2018-08-13 11:19:47,257 : INFO : EPOCH 49 - PROGRESS: at 73.70% examples, 422645 words/s, in_qsize 1, out_qsize 0\n",
      "2018-08-13 11:19:48,260 : INFO : EPOCH 49 - PROGRESS: at 88.11% examples, 419132 words/s, in_qsize 1, out_qsize 0\n",
      "2018-08-13 11:19:49,055 : INFO : worker thread finished; awaiting finish of 0 more threads\n",
      "2018-08-13 11:19:49,056 : INFO : EPOCH - 49 : training on 3088388 raw words (2435536 effective words) took 5.8s, 417677 effective words/s\n",
      "2018-08-13 11:19:50,073 : INFO : EPOCH 50 - PROGRESS: at 19.31% examples, 436973 words/s, in_qsize 1, out_qsize 0\n",
      "2018-08-13 11:19:51,080 : INFO : EPOCH 50 - PROGRESS: at 38.36% examples, 430098 words/s, in_qsize 1, out_qsize 0\n",
      "2018-08-13 11:19:52,084 : INFO : EPOCH 50 - PROGRESS: at 57.19% examples, 430812 words/s, in_qsize 1, out_qsize 0\n",
      "2018-08-13 11:19:53,091 : INFO : EPOCH 50 - PROGRESS: at 75.35% examples, 434617 words/s, in_qsize 2, out_qsize 0\n",
      "2018-08-13 11:19:54,098 : INFO : EPOCH 50 - PROGRESS: at 91.38% examples, 436153 words/s, in_qsize 2, out_qsize 0\n",
      "2018-08-13 11:19:54,636 : INFO : worker thread finished; awaiting finish of 0 more threads\n",
      "2018-08-13 11:19:54,636 : INFO : EPOCH - 50 : training on 3088388 raw words (2435885 effective words) took 5.6s, 436931 effective words/s\n",
      "2018-08-13 11:19:54,637 : INFO : training on a 154419400 raw words (121783208 effective words) took 284.7s, 427771 effective words/s\n"
     ]
    }
   ],
   "source": [
    "time1=time.time()\n",
    "model.train(corp, total_examples=len(corp), epochs=50)\n",
    "time2=time.time()"
   ]
  },
  {
   "cell_type": "code",
   "execution_count": 10,
   "metadata": {},
   "outputs": [
    {
     "data": {
      "text/plain": [
       "284.6980357170105"
      ]
     },
     "execution_count": 10,
     "metadata": {},
     "output_type": "execute_result"
    }
   ],
   "source": [
    "time2-time1"
   ]
  },
  {
   "cell_type": "code",
   "execution_count": 11,
   "metadata": {},
   "outputs": [
    {
     "name": "stderr",
     "output_type": "stream",
     "text": [
      "2018-08-13 11:20:15,533 : INFO : saving Word2Vec object under word2vec.model, separately None\n",
      "2018-08-13 11:20:15,535 : INFO : not storing attribute vectors_norm\n",
      "2018-08-13 11:20:15,537 : INFO : not storing attribute cum_table\n",
      "2018-08-13 11:20:15,893 : INFO : saved word2vec.model\n"
     ]
    }
   ],
   "source": [
    "model.save(\"word2vec.model\")"
   ]
  },
  {
   "cell_type": "code",
   "execution_count": 12,
   "metadata": {},
   "outputs": [],
   "source": [
    "wordvecs=model.wv"
   ]
  },
  {
   "cell_type": "code",
   "execution_count": 12,
   "metadata": {},
   "outputs": [],
   "source": [
    "v1=wordvecs[\"france\"]-wordvecs[\"turkey\"]+wordvecs[\"istanbul\"]"
   ]
  },
  {
   "cell_type": "code",
   "execution_count": 35,
   "metadata": {},
   "outputs": [
    {
     "name": "stderr",
     "output_type": "stream",
     "text": [
      "/home/arda/anaconda3/lib/python3.6/site-packages/gensim/matutils.py:737: FutureWarning: Conversion of the second argument of issubdtype from `int` to `np.signedinteger` is deprecated. In future, it will be treated as `np.int64 == np.dtype(int).type`.\n",
      "  if np.issubdtype(vec.dtype, np.int):\n"
     ]
    },
    {
     "data": {
      "text/plain": [
       "[('injured', 0.7036917209625244),\n",
       " ('kidnapped', 0.6664249897003174),\n",
       " ('killing', 0.6588895320892334),\n",
       " ('wounded', 0.6535848379135132),\n",
       " ('wounding', 0.6310290098190308),\n",
       " ('trapped', 0.6260681748390198),\n",
       " ('attacked', 0.6148332357406616),\n",
       " ('unidentified', 0.6083873510360718),\n",
       " ('died', 0.5981801152229309),\n",
       " ('abducted', 0.5974211096763611)]"
      ]
     },
     "execution_count": 35,
     "metadata": {},
     "output_type": "execute_result"
    }
   ],
   "source": [
    "wordvecs.most_similar(\"killed\")"
   ]
  },
  {
   "cell_type": "code",
   "execution_count": 14,
   "metadata": {},
   "outputs": [
    {
     "data": {
      "text/plain": [
       "array([ 0.7251552 , -0.42524388,  0.7899514 ,  0.48121393,  0.0196346 ,\n",
       "       -0.552452  , -1.3775086 , -0.03420574, -0.981996  , -0.6830613 ,\n",
       "       -0.89819634, -0.95485884,  0.02137842, -0.19071321,  0.13384594,\n",
       "       -0.76542485, -1.7630227 , -0.8231929 ,  1.1242121 ,  0.4919192 ,\n",
       "       -1.2197359 , -0.20721227,  0.02417639,  0.01295098,  0.26562235,\n",
       "       -1.0407267 ,  1.7149262 , -0.19162154, -0.23245472,  0.56552994,\n",
       "       -0.16425945,  0.22649796, -0.03658887,  1.648621  ,  1.6058565 ,\n",
       "        1.5358429 , -0.51974547,  0.5903277 , -0.03618061, -1.8883204 ,\n",
       "        0.42233354,  0.94798094,  0.3092271 ,  0.22804731, -0.3968416 ,\n",
       "        0.04149014, -0.7022589 , -0.01974384,  1.0008974 , -1.1313524 ,\n",
       "        0.4584695 ,  0.76788497,  0.55983347,  0.02495299, -1.4915103 ,\n",
       "       -0.08522043, -0.53589725, -0.021918  ,  0.31015787,  0.406181  ,\n",
       "        1.2483861 , -1.7709882 , -0.658207  , -0.7756796 , -0.8153913 ,\n",
       "        0.00960277, -0.21892808, -2.0914464 ,  0.94060105,  1.2651106 ,\n",
       "       -0.11493524, -0.73135406,  0.74254465,  0.3391577 ,  0.7761206 ,\n",
       "       -0.43867892, -1.1221471 , -0.39796323,  0.5283203 , -0.90415055,\n",
       "        0.7959544 , -1.0137303 , -0.85723144,  0.30160618, -0.53108656,\n",
       "        1.978578  ,  0.8175727 , -1.324424  , -0.14595845,  1.6877837 ,\n",
       "        0.6107048 ,  0.61948764,  0.6761101 ,  0.57996875,  0.3930794 ,\n",
       "        1.6083517 , -0.543059  ,  0.01293206,  1.2751442 ,  0.535495  ],\n",
       "      dtype=float32)"
      ]
     },
     "execution_count": 14,
     "metadata": {},
     "output_type": "execute_result"
    }
   ],
   "source": [
    "wordvecs.get_vector(\"turkey\")"
   ]
  },
  {
   "cell_type": "code",
   "execution_count": 19,
   "metadata": {},
   "outputs": [
    {
     "name": "stderr",
     "output_type": "stream",
     "text": [
      "2018-08-07 21:05:00,318 : INFO : loading Word2Vec object from word2vec/vecs\n",
      "2018-08-07 21:05:01,371 : INFO : setting ignored attribute vectors_norm to None\n",
      "2018-08-07 21:05:01,372 : INFO : loaded word2vec/vecs\n",
      "2018-08-07 21:05:01,372 : INFO : Model saved using code from earlier Gensim Version. Re-loading old model in a compatible way.\n",
      "2018-08-07 21:05:01,373 : INFO : loading Word2Vec object from word2vec/vecs\n"
     ]
    },
    {
     "ename": "AttributeError",
     "evalue": "Can't get attribute 'Word2VecKeyedVectors' on <module 'gensim.models.deprecated.keyedvectors' from '/home/arda/anaconda3/lib/python3.6/site-packages/gensim/models/deprecated/keyedvectors.py'>",
     "output_type": "error",
     "traceback": [
      "\u001b[0;31m---------------------------------------------------------------------------\u001b[0m",
      "\u001b[0;31mAttributeError\u001b[0m                            Traceback (most recent call last)",
      "\u001b[0;32m~/anaconda3/lib/python3.6/site-packages/gensim/models/word2vec.py\u001b[0m in \u001b[0;36mload\u001b[0;34m(cls, *args, **kwargs)\u001b[0m\n\u001b[1;32m   1275\u001b[0m         \u001b[0;32mtry\u001b[0m\u001b[0;34m:\u001b[0m\u001b[0;34m\u001b[0m\u001b[0m\n\u001b[0;32m-> 1276\u001b[0;31m             \u001b[0mmodel\u001b[0m \u001b[0;34m=\u001b[0m \u001b[0msuper\u001b[0m\u001b[0;34m(\u001b[0m\u001b[0mWord2Vec\u001b[0m\u001b[0;34m,\u001b[0m \u001b[0mcls\u001b[0m\u001b[0;34m)\u001b[0m\u001b[0;34m.\u001b[0m\u001b[0mload\u001b[0m\u001b[0;34m(\u001b[0m\u001b[0;34m*\u001b[0m\u001b[0margs\u001b[0m\u001b[0;34m,\u001b[0m \u001b[0;34m**\u001b[0m\u001b[0mkwargs\u001b[0m\u001b[0;34m)\u001b[0m\u001b[0;34m\u001b[0m\u001b[0m\n\u001b[0m\u001b[1;32m   1277\u001b[0m \u001b[0;34m\u001b[0m\u001b[0m\n",
      "\u001b[0;32m~/anaconda3/lib/python3.6/site-packages/gensim/models/base_any2vec.py\u001b[0m in \u001b[0;36mload\u001b[0;34m(cls, *args, **kwargs)\u001b[0m\n\u001b[1;32m   1103\u001b[0m             \u001b[0mmodel\u001b[0m\u001b[0;34m.\u001b[0m\u001b[0mns_exponent\u001b[0m \u001b[0;34m=\u001b[0m \u001b[0;36m0.75\u001b[0m\u001b[0;34m\u001b[0m\u001b[0m\n\u001b[0;32m-> 1104\u001b[0;31m         \u001b[0;32mif\u001b[0m \u001b[0;32mnot\u001b[0m \u001b[0mhasattr\u001b[0m\u001b[0;34m(\u001b[0m\u001b[0mmodel\u001b[0m\u001b[0;34m.\u001b[0m\u001b[0mvocabulary\u001b[0m\u001b[0;34m,\u001b[0m \u001b[0;34m'ns_exponent'\u001b[0m\u001b[0;34m)\u001b[0m\u001b[0;34m:\u001b[0m\u001b[0;34m\u001b[0m\u001b[0m\n\u001b[0m\u001b[1;32m   1105\u001b[0m             \u001b[0mmodel\u001b[0m\u001b[0;34m.\u001b[0m\u001b[0mvocabulary\u001b[0m\u001b[0;34m.\u001b[0m\u001b[0mns_exponent\u001b[0m \u001b[0;34m=\u001b[0m \u001b[0;36m0.75\u001b[0m\u001b[0;34m\u001b[0m\u001b[0m\n",
      "\u001b[0;31mAttributeError\u001b[0m: 'Word2VecKeyedVectors' object has no attribute 'vocabulary'",
      "\nDuring handling of the above exception, another exception occurred:\n",
      "\u001b[0;31mAttributeError\u001b[0m                            Traceback (most recent call last)",
      "\u001b[0;32m<ipython-input-19-3f5fde8aeb7e>\u001b[0m in \u001b[0;36m<module>\u001b[0;34m()\u001b[0m\n\u001b[0;32m----> 1\u001b[0;31m \u001b[0mvecs\u001b[0m\u001b[0;34m=\u001b[0m\u001b[0mWord2Vec\u001b[0m\u001b[0;34m.\u001b[0m\u001b[0mload\u001b[0m\u001b[0;34m(\u001b[0m\u001b[0;34m\"word2vec/vecs\"\u001b[0m\u001b[0;34m)\u001b[0m\u001b[0;34m\u001b[0m\u001b[0m\n\u001b[0m",
      "\u001b[0;32m~/anaconda3/lib/python3.6/site-packages/gensim/models/word2vec.py\u001b[0m in \u001b[0;36mload\u001b[0;34m(cls, *args, **kwargs)\u001b[0m\n\u001b[1;32m   1285\u001b[0m             \u001b[0mlogger\u001b[0m\u001b[0;34m.\u001b[0m\u001b[0minfo\u001b[0m\u001b[0;34m(\u001b[0m\u001b[0;34m'Model saved using code from earlier Gensim Version. Re-loading old model in a compatible way.'\u001b[0m\u001b[0;34m)\u001b[0m\u001b[0;34m\u001b[0m\u001b[0m\n\u001b[1;32m   1286\u001b[0m             \u001b[0;32mfrom\u001b[0m \u001b[0mgensim\u001b[0m\u001b[0;34m.\u001b[0m\u001b[0mmodels\u001b[0m\u001b[0;34m.\u001b[0m\u001b[0mdeprecated\u001b[0m\u001b[0;34m.\u001b[0m\u001b[0mword2vec\u001b[0m \u001b[0;32mimport\u001b[0m \u001b[0mload_old_word2vec\u001b[0m\u001b[0;34m\u001b[0m\u001b[0m\n\u001b[0;32m-> 1287\u001b[0;31m             \u001b[0;32mreturn\u001b[0m \u001b[0mload_old_word2vec\u001b[0m\u001b[0;34m(\u001b[0m\u001b[0;34m*\u001b[0m\u001b[0margs\u001b[0m\u001b[0;34m,\u001b[0m \u001b[0;34m**\u001b[0m\u001b[0mkwargs\u001b[0m\u001b[0;34m)\u001b[0m\u001b[0;34m\u001b[0m\u001b[0m\n\u001b[0m\u001b[1;32m   1288\u001b[0m \u001b[0;34m\u001b[0m\u001b[0m\n\u001b[1;32m   1289\u001b[0m \u001b[0;34m\u001b[0m\u001b[0m\n",
      "\u001b[0;32m~/anaconda3/lib/python3.6/site-packages/gensim/models/deprecated/word2vec.py\u001b[0m in \u001b[0;36mload_old_word2vec\u001b[0;34m(*args, **kwargs)\u001b[0m\n\u001b[1;32m    151\u001b[0m \u001b[0;34m\u001b[0m\u001b[0m\n\u001b[1;32m    152\u001b[0m \u001b[0;32mdef\u001b[0m \u001b[0mload_old_word2vec\u001b[0m\u001b[0;34m(\u001b[0m\u001b[0;34m*\u001b[0m\u001b[0margs\u001b[0m\u001b[0;34m,\u001b[0m \u001b[0;34m**\u001b[0m\u001b[0mkwargs\u001b[0m\u001b[0;34m)\u001b[0m\u001b[0;34m:\u001b[0m\u001b[0;34m\u001b[0m\u001b[0m\n\u001b[0;32m--> 153\u001b[0;31m     \u001b[0mold_model\u001b[0m \u001b[0;34m=\u001b[0m \u001b[0mWord2Vec\u001b[0m\u001b[0;34m.\u001b[0m\u001b[0mload\u001b[0m\u001b[0;34m(\u001b[0m\u001b[0;34m*\u001b[0m\u001b[0margs\u001b[0m\u001b[0;34m,\u001b[0m \u001b[0;34m**\u001b[0m\u001b[0mkwargs\u001b[0m\u001b[0;34m)\u001b[0m\u001b[0;34m\u001b[0m\u001b[0m\n\u001b[0m\u001b[1;32m    154\u001b[0m     \u001b[0mvector_size\u001b[0m \u001b[0;34m=\u001b[0m \u001b[0mgetattr\u001b[0m\u001b[0;34m(\u001b[0m\u001b[0mold_model\u001b[0m\u001b[0;34m,\u001b[0m \u001b[0;34m'vector_size'\u001b[0m\u001b[0;34m,\u001b[0m \u001b[0mold_model\u001b[0m\u001b[0;34m.\u001b[0m\u001b[0mlayer1_size\u001b[0m\u001b[0;34m)\u001b[0m\u001b[0;34m\u001b[0m\u001b[0m\n\u001b[1;32m    155\u001b[0m     params = {\n",
      "\u001b[0;32m~/anaconda3/lib/python3.6/site-packages/gensim/models/deprecated/word2vec.py\u001b[0m in \u001b[0;36mload\u001b[0;34m(cls, *args, **kwargs)\u001b[0m\n\u001b[1;32m   1615\u001b[0m     \u001b[0;34m@\u001b[0m\u001b[0mclassmethod\u001b[0m\u001b[0;34m\u001b[0m\u001b[0m\n\u001b[1;32m   1616\u001b[0m     \u001b[0;32mdef\u001b[0m \u001b[0mload\u001b[0m\u001b[0;34m(\u001b[0m\u001b[0mcls\u001b[0m\u001b[0;34m,\u001b[0m \u001b[0;34m*\u001b[0m\u001b[0margs\u001b[0m\u001b[0;34m,\u001b[0m \u001b[0;34m**\u001b[0m\u001b[0mkwargs\u001b[0m\u001b[0;34m)\u001b[0m\u001b[0;34m:\u001b[0m\u001b[0;34m\u001b[0m\u001b[0m\n\u001b[0;32m-> 1617\u001b[0;31m         \u001b[0mmodel\u001b[0m \u001b[0;34m=\u001b[0m \u001b[0msuper\u001b[0m\u001b[0;34m(\u001b[0m\u001b[0mWord2Vec\u001b[0m\u001b[0;34m,\u001b[0m \u001b[0mcls\u001b[0m\u001b[0;34m)\u001b[0m\u001b[0;34m.\u001b[0m\u001b[0mload\u001b[0m\u001b[0;34m(\u001b[0m\u001b[0;34m*\u001b[0m\u001b[0margs\u001b[0m\u001b[0;34m,\u001b[0m \u001b[0;34m**\u001b[0m\u001b[0mkwargs\u001b[0m\u001b[0;34m)\u001b[0m\u001b[0;34m\u001b[0m\u001b[0m\n\u001b[0m\u001b[1;32m   1618\u001b[0m         \u001b[0;31m# update older models\u001b[0m\u001b[0;34m\u001b[0m\u001b[0;34m\u001b[0m\u001b[0m\n\u001b[1;32m   1619\u001b[0m         \u001b[0;32mif\u001b[0m \u001b[0mhasattr\u001b[0m\u001b[0;34m(\u001b[0m\u001b[0mmodel\u001b[0m\u001b[0;34m,\u001b[0m \u001b[0;34m'table'\u001b[0m\u001b[0;34m)\u001b[0m\u001b[0;34m:\u001b[0m\u001b[0;34m\u001b[0m\u001b[0m\n",
      "\u001b[0;32m~/anaconda3/lib/python3.6/site-packages/gensim/models/deprecated/old_saveload.py\u001b[0m in \u001b[0;36mload\u001b[0;34m(cls, fname, mmap)\u001b[0m\n\u001b[1;32m     85\u001b[0m         \u001b[0mcompress\u001b[0m\u001b[0;34m,\u001b[0m \u001b[0msubname\u001b[0m \u001b[0;34m=\u001b[0m \u001b[0mSaveLoad\u001b[0m\u001b[0;34m.\u001b[0m\u001b[0m_adapt_by_suffix\u001b[0m\u001b[0;34m(\u001b[0m\u001b[0mfname\u001b[0m\u001b[0;34m)\u001b[0m\u001b[0;34m\u001b[0m\u001b[0m\n\u001b[1;32m     86\u001b[0m \u001b[0;34m\u001b[0m\u001b[0m\n\u001b[0;32m---> 87\u001b[0;31m         \u001b[0mobj\u001b[0m \u001b[0;34m=\u001b[0m \u001b[0munpickle\u001b[0m\u001b[0;34m(\u001b[0m\u001b[0mfname\u001b[0m\u001b[0;34m)\u001b[0m\u001b[0;34m\u001b[0m\u001b[0m\n\u001b[0m\u001b[1;32m     88\u001b[0m         \u001b[0mobj\u001b[0m\u001b[0;34m.\u001b[0m\u001b[0m_load_specials\u001b[0m\u001b[0;34m(\u001b[0m\u001b[0mfname\u001b[0m\u001b[0;34m,\u001b[0m \u001b[0mmmap\u001b[0m\u001b[0;34m,\u001b[0m \u001b[0mcompress\u001b[0m\u001b[0;34m,\u001b[0m \u001b[0msubname\u001b[0m\u001b[0;34m)\u001b[0m\u001b[0;34m\u001b[0m\u001b[0m\n\u001b[1;32m     89\u001b[0m         \u001b[0mlogger\u001b[0m\u001b[0;34m.\u001b[0m\u001b[0minfo\u001b[0m\u001b[0;34m(\u001b[0m\u001b[0;34m\"loaded %s\"\u001b[0m\u001b[0;34m,\u001b[0m \u001b[0mfname\u001b[0m\u001b[0;34m)\u001b[0m\u001b[0;34m\u001b[0m\u001b[0m\n",
      "\u001b[0;32m~/anaconda3/lib/python3.6/site-packages/gensim/models/deprecated/old_saveload.py\u001b[0m in \u001b[0;36munpickle\u001b[0;34m(fname)\u001b[0m\n\u001b[1;32m    378\u001b[0m             b'gensim.models.wrappers.fasttext', b'gensim.models.deprecated.fasttext_wrapper')\n\u001b[1;32m    379\u001b[0m         \u001b[0;32mif\u001b[0m \u001b[0msys\u001b[0m\u001b[0;34m.\u001b[0m\u001b[0mversion_info\u001b[0m \u001b[0;34m>\u001b[0m \u001b[0;34m(\u001b[0m\u001b[0;36m3\u001b[0m\u001b[0;34m,\u001b[0m \u001b[0;36m0\u001b[0m\u001b[0;34m)\u001b[0m\u001b[0;34m:\u001b[0m\u001b[0;34m\u001b[0m\u001b[0m\n\u001b[0;32m--> 380\u001b[0;31m             \u001b[0;32mreturn\u001b[0m \u001b[0m_pickle\u001b[0m\u001b[0;34m.\u001b[0m\u001b[0mloads\u001b[0m\u001b[0;34m(\u001b[0m\u001b[0mfile_bytes\u001b[0m\u001b[0;34m,\u001b[0m \u001b[0mencoding\u001b[0m\u001b[0;34m=\u001b[0m\u001b[0;34m'latin1'\u001b[0m\u001b[0;34m)\u001b[0m\u001b[0;34m\u001b[0m\u001b[0m\n\u001b[0m\u001b[1;32m    381\u001b[0m         \u001b[0;32melse\u001b[0m\u001b[0;34m:\u001b[0m\u001b[0;34m\u001b[0m\u001b[0m\n\u001b[1;32m    382\u001b[0m             \u001b[0;32mreturn\u001b[0m \u001b[0m_pickle\u001b[0m\u001b[0;34m.\u001b[0m\u001b[0mloads\u001b[0m\u001b[0;34m(\u001b[0m\u001b[0mfile_bytes\u001b[0m\u001b[0;34m)\u001b[0m\u001b[0;34m\u001b[0m\u001b[0m\n",
      "\u001b[0;31mAttributeError\u001b[0m: Can't get attribute 'Word2VecKeyedVectors' on <module 'gensim.models.deprecated.keyedvectors' from '/home/arda/anaconda3/lib/python3.6/site-packages/gensim/models/deprecated/keyedvectors.py'>"
     ]
    }
   ],
   "source": [
    "vecs=Word2Vec.load(\"word2vec/vecs\")"
   ]
  },
  {
   "cell_type": "code",
   "execution_count": 13,
   "metadata": {},
   "outputs": [],
   "source": [
    "worddic={}\n",
    "for word in wordvecs.vocab:\n",
    "    worddic[word]=wordvecs[word]"
   ]
  },
  {
   "cell_type": "code",
   "execution_count": null,
   "metadata": {},
   "outputs": [],
   "source": []
  },
  {
   "cell_type": "code",
   "execution_count": 14,
   "metadata": {},
   "outputs": [],
   "source": [
    "def saveword2vecdic(dic1,outn):\n",
    "    out=open(outn,\"w\")\n",
    "    for key, val in dic1.items():\n",
    "        out.write(key + \"\\t\")\n",
    "        for v in val:\n",
    "            out.write(str(v)+\" \")\n",
    "        out.write(\"\\n\")\n",
    "    out.close()"
   ]
  },
  {
   "cell_type": "code",
   "execution_count": 15,
   "metadata": {},
   "outputs": [],
   "source": [
    "saveword2vecdic(worddic,\"vecdict\")"
   ]
  },
  {
   "cell_type": "code",
   "execution_count": 16,
   "metadata": {},
   "outputs": [],
   "source": [
    "vect=open(\"vecdict\").readlines()"
   ]
  },
  {
   "cell_type": "code",
   "execution_count": 17,
   "metadata": {},
   "outputs": [],
   "source": [
    "dicvects={}\n",
    "for vec in vect:\n",
    "    vecs=vec.split()\n",
    "    dicvects[vecs[0]]=vec[len(vecs[0]):]"
   ]
  },
  {
   "cell_type": "code",
   "execution_count": 18,
   "metadata": {},
   "outputs": [],
   "source": [
    "pretr=open(\"glpre\").readlines()"
   ]
  },
  {
   "cell_type": "code",
   "execution_count": 19,
   "metadata": {},
   "outputs": [],
   "source": [
    "benimvecnames=[vec.split()[0] for vec in vect]\n",
    "prenames=[pr.split()[0] for pr in pretr]"
   ]
  },
  {
   "cell_type": "code",
   "execution_count": 20,
   "metadata": {},
   "outputs": [],
   "source": [
    "a=list(set(benimvecnames)-set(prenames))"
   ]
  },
  {
   "cell_type": "code",
   "execution_count": 21,
   "metadata": {},
   "outputs": [],
   "source": [
    "fark=open(\"fark\",\"w\")\n",
    "for x in a:\n",
    "    fark.write(x+\" \"+dicvects[x]+\"\\n\")\n",
    "fark.close()"
   ]
  },
  {
   "cell_type": "code",
   "execution_count": 25,
   "metadata": {},
   "outputs": [
    {
     "data": {
      "text/plain": [
       "44777"
      ]
     },
     "execution_count": 25,
     "metadata": {},
     "output_type": "execute_result"
    }
   ],
   "source": [
    "\n",
    "\n",
    "\n",
    "\n",
    "\n",
    "\n",
    "\n",
    "\n"
   ]
  },
  {
   "cell_type": "code",
   "execution_count": null,
   "metadata": {},
   "outputs": [],
   "source": []
  }
 ],
 "metadata": {
  "kernelspec": {
   "display_name": "Python 3",
   "language": "python",
   "name": "python3"
  },
  "language_info": {
   "codemirror_mode": {
    "name": "ipython",
    "version": 3
   },
   "file_extension": ".py",
   "mimetype": "text/x-python",
   "name": "python",
   "nbconvert_exporter": "python",
   "pygments_lexer": "ipython3",
   "version": "3.6.5"
  }
 },
 "nbformat": 4,
 "nbformat_minor": 2
}
