{
 "cells": [
  {
   "cell_type": "markdown",
   "metadata": {},
   "source": [
    "# Results for Place Name Recognition using Wapiti and NeuroNER"
   ]
  },
  {
   "cell_type": "markdown",
   "metadata": {},
   "source": [
    "This notebook shows the results for various configurations of Wapiti and NeuroNER tools on several different training and test sets. For now the list of datasets:\n",
    "    -  ACE corpus\n",
    "    -  Conll corpus\n"
   ]
  },
  {
   "cell_type": "code",
   "execution_count": 1,
   "metadata": {},
   "outputs": [],
   "source": [
    "##calculates and prints precision and recall for the resf file only taking into consideration the tags in  tagf var.\n",
    "def acc(resf,tagf):\n",
    "    t=0.0\n",
    "    c=0\n",
    "    tot=0\n",
    "    ptot=0\n",
    "    p=0.0\n",
    "    res1=open(resf).readlines()\n",
    "    for line in res1:\n",
    "        line1=line.split()\n",
    "        if len(line1)>2:\n",
    "            if line1[-2] in tagf:\n",
    "                if line1[-2]==line1[-1]:\n",
    "                    t+=1\n",
    "                c+=1\n",
    "            if line1[-1] in tagf:\n",
    "                if line1[-1]==line1[-2]:\n",
    "                    p+=1\n",
    "                ptot+=1\n",
    "            tot+=1\n",
    "    print(\"Total predictions: \"+str(ptot))\n",
    "    print(\"Total entities: \"+ str(c))\n",
    "    rec=t/c\n",
    "    pre=p/ptot\n",
    "    print(\"recall: \"+str(rec))\n",
    "    print(\"precision: \"+str(pre))\n",
    "    return pre,rec"
   ]
  },
  {
   "cell_type": "code",
   "execution_count": 2,
   "metadata": {},
   "outputs": [],
   "source": [
    "##calculates and prints precision and recall for the resf file only taking into consideration the tags in  tagf var.\n",
    "def acc2(resf):\n",
    "    t=0.0\n",
    "    c=0\n",
    "    tot=0\n",
    "    ptot=0\n",
    "    p=0.0\n",
    "    res1=open(resf).readlines()\n",
    "    for line in res1:\n",
    "        line1=line.split()\n",
    "        if len(line1)>2:\n",
    "            if line1[-2]!=\"O\" and line1[-2]!=\"0\":\n",
    "                if line1[-2]==line1[-1]:\n",
    "                    t+=1\n",
    "                c+=1\n",
    "            if line1[-1]!=\"O\" and line1[-1]!=\"0\":\n",
    "                if line1[-1]==line1[-2]:\n",
    "                    p+=1\n",
    "                ptot+=1\n",
    "            tot+=1\n",
    "    print(\"Total predictions: \"+str(ptot))\n",
    "    print(\"Total entities: \"+ str(c))\n",
    "    rec=t/c\n",
    "    pre=p/ptot\n",
    "    print(\"recall: \"+str(rec))\n",
    "    print(\"precision: \"+str(pre))\n",
    "    return pre,rec"
   ]
  },
  {
   "cell_type": "code",
   "execution_count": 9,
   "metadata": {},
   "outputs": [],
   "source": [
    "## calculates and returns fbeta score using the parameters\n",
    "def fbeta(beta,pre,rec):\n",
    "    den = beta*beta* pre + rec\n",
    "    nom = (beta*beta+1)*pre*rec\n",
    "    return nom/den"
   ]
  },
  {
   "cell_type": "code",
   "execution_count": 12,
   "metadata": {},
   "outputs": [],
   "source": [
    "tagsace=[\"GPE\",\"LOC\"]\n",
    "tagscon=[\"I-LOC\"]\n"
   ]
  },
  {
   "cell_type": "markdown",
   "metadata": {},
   "source": [
    "***NOTE:*** User must change the value of the resultsfile variable for each result accordingly. I used the default addresses for them. The program will not work if the address is not given properly."
   ]
  },
  {
   "cell_type": "markdown",
   "metadata": {},
   "source": [
    "## 1)Wapiti Results\n",
    "\n",
    "Wapiti is a ML tool used generally for sequence labelling, such as POS tagging, NER etc. Wapiti uses Conditional Random Fields which are proven to be very powerful for labeling sequential data. Below is the link to have more information about the tool:\n",
    "\n",
    "https://wapiti.limsi.fr/manual.html"
   ]
  },
  {
   "cell_type": "markdown",
   "metadata": {},
   "source": [
    "## Results for Conll alone\n",
    "\n",
    "Results below use the Conll dataset and the predefined Conll features for learning"
   ]
  },
  {
   "cell_type": "markdown",
   "metadata": {},
   "source": [
    "### Result 1\n",
    "\n",
    "* **Training set**: Conll training set \n",
    "\n",
    "* **Test set**: Conll testa,testb\n",
    "* **Pattern file**: nppattern.txt\n",
    "\n",
    "* **Configurations**: L1 norm penalty 5 \n",
    "\n",
    "* **Terminal call for training**: `wapiti train -p patternfile -1 5 trainfile modelfile`\n",
    "* **Terminal call for prediction**: `wapiti label -m modelfile testfile outputfile`"
   ]
  },
  {
   "cell_type": "markdown",
   "metadata": {},
   "source": [
    "**testa**"
   ]
  },
  {
   "cell_type": "code",
   "execution_count": 13,
   "metadata": {
    "scrolled": false
   },
   "outputs": [
    {
     "name": "stdout",
     "output_type": "stream",
     "text": [
      "Total predictions: 2158\n",
      "Total entities: 2094\n",
      "1826.0\n",
      "1826.0\n",
      "recall: 0.872015281757\n",
      "precision: 0.846153846154\n",
      "F1 score:0.858889934149\n"
     ]
    }
   ],
   "source": [
    "resultsfile=\"results/resa.txt\"\n",
    "beta=1\n",
    "pre,rec=acc(resultsfile,tagscon)\n",
    "f=fbeta(beta,pre,rec)\n",
    "print(\"F1 score:\"+str(f))"
   ]
  },
  {
   "cell_type": "markdown",
   "metadata": {},
   "source": [
    "**testb**"
   ]
  },
  {
   "cell_type": "code",
   "execution_count": 5,
   "metadata": {},
   "outputs": [
    {
     "name": "stdout",
     "output_type": "stream",
     "text": [
      "Total predictions: 1946\n",
      "Total entities: 1919\n",
      "recall: 0.813444502345\n",
      "precision: 0.802158273381\n",
      "F1 score:0.807761966365\n"
     ]
    }
   ],
   "source": [
    "resultsfile=\"results/resb.txt\"\n",
    "beta=1\n",
    "pre,rec=acc(resultsfile,tagscon)\n",
    "f=fbeta(beta,pre,rec)\n",
    "print(\"F1 score:\"+str(f))"
   ]
  },
  {
   "cell_type": "markdown",
   "metadata": {},
   "source": [
    "### Result 2\n",
    "\n",
    "* **Training set**: Conll training set \n",
    "\n",
    "* **Test set**: Conll testa,testb\n",
    "* **Pattern file**: nppattern.txt\n",
    "\n",
    "* **Configurations**: default mode with no L1 penalty \n",
    "\n",
    "* **Terminal call for training**: `wapiti train -p patternfile trainfile modelfile`\n",
    "* **Terminal call for prediction**: `wapiti label -m modelfile testfile outputfile`"
   ]
  },
  {
   "cell_type": "markdown",
   "metadata": {},
   "source": [
    "**testa**"
   ]
  },
  {
   "cell_type": "code",
   "execution_count": 6,
   "metadata": {},
   "outputs": [
    {
     "name": "stdout",
     "output_type": "stream",
     "text": [
      "Total predictions: 2098\n",
      "Total entities: 2094\n",
      "recall: 0.916427889207\n",
      "precision: 0.914680648236\n",
      "F1 score:0.915553435115\n"
     ]
    }
   ],
   "source": [
    "resultsfile=\"results/resa2.txt\"\n",
    "beta=1\n",
    "pre,rec=acc(resultsfile,tagscon)\n",
    "f=fbeta(beta,pre,rec)\n",
    "print(\"F1 score:\"+str(f))"
   ]
  },
  {
   "cell_type": "markdown",
   "metadata": {},
   "source": [
    "**testb**"
   ]
  },
  {
   "cell_type": "code",
   "execution_count": 7,
   "metadata": {},
   "outputs": [
    {
     "name": "stdout",
     "output_type": "stream",
     "text": [
      "Total predictions: 1878\n",
      "Total entities: 1919\n",
      "recall: 0.853048462741\n",
      "precision: 0.87167199148\n",
      "F1 score:0.862259678694\n"
     ]
    }
   ],
   "source": [
    "resultsfile=\"results/resb2.txt\"\n",
    "beta=1\n",
    "pre,rec=acc(resultsfile,tagscon)\n",
    "f=fbeta(beta,pre,rec)\n",
    "print(\"F1 score:\"+str(f))"
   ]
  },
  {
   "cell_type": "markdown",
   "metadata": {},
   "source": [
    "### Result 3\n",
    "\n",
    "* **Training set**: Conll training set (sentence splitted version)\n",
    "\n",
    "* **Test set**: Conll testa,testb\n",
    "* **Pattern file**: nppattern.txt\n",
    "\n",
    "* **Configurations**: default mode with no L1 penalty\n",
    "\n",
    "* **Terminal call for training**: `wapiti train -p patternfile trainfile modelfile`\n",
    "* **Terminal call for prediction**: `wapiti label -m modelfile testfile outputfile`"
   ]
  },
  {
   "cell_type": "markdown",
   "metadata": {},
   "source": [
    "** testa **"
   ]
  },
  {
   "cell_type": "code",
   "execution_count": 8,
   "metadata": {},
   "outputs": [
    {
     "name": "stdout",
     "output_type": "stream",
     "text": [
      "Total predictions: 2108\n",
      "Total entities: 2094\n",
      "recall: 0.920248328558\n",
      "precision: 0.914136622391\n",
      "F1 score:0.917182294146\n"
     ]
    }
   ],
   "source": [
    "resultsfile=\"results/wapresa\"\n",
    "beta=1\n",
    "pre,rec=acc(resultsfile,tagscon)\n",
    "f=fbeta(beta,pre,rec)\n",
    "print(\"F1 score:\"+str(f))"
   ]
  },
  {
   "cell_type": "markdown",
   "metadata": {},
   "source": [
    "**testb**"
   ]
  },
  {
   "cell_type": "code",
   "execution_count": 9,
   "metadata": {},
   "outputs": [
    {
     "name": "stdout",
     "output_type": "stream",
     "text": [
      "Total predictions: 1896\n",
      "Total entities: 1919\n",
      "recall: 0.852006253257\n",
      "precision: 0.862341772152\n",
      "F1 score:0.857142857143\n"
     ]
    }
   ],
   "source": [
    "resultsfile=\"results/wapresb\"\n",
    "beta=1\n",
    "pre,rec=acc(resultsfile,tagscon)\n",
    "f=fbeta(beta,pre,rec)\n",
    "print(\"F1 score:\"+str(f))"
   ]
  },
  {
   "cell_type": "markdown",
   "metadata": {},
   "source": [
    "## Results for ACE alone\n",
    "\n",
    "There are many entity types available in the ACE dataset. For the purpose of our project we only consider the entities with tags GPE and LOC. As in the case for Conll we ignore the boundaries (BIO representation)."
   ]
  },
  {
   "cell_type": "markdown",
   "metadata": {},
   "source": [
    "### Result 4\n",
    "\n",
    "No features are given to the CRF learner. These can be considered as the baseline performance of Wapiti on ACE alone.\n",
    "A lot of improvements can be done over these scores.\n",
    "* **Training set**: 90% of ACE corpus (no features except for surface form + regex)\n",
    "* **Test set**:  10% of ACE corpus\n",
    "* **Pattern file**: acepats\n",
    "* **Configurations**: L1 penalty 1\n",
    "\n",
    "* **Terminal call for training**: `wapiti train -p -1 1 patternfile trainfile modelfile`\n",
    "* **Terminal call for prediction**: `wapiti label -m modelfile testfile outputfile`"
   ]
  },
  {
   "cell_type": "code",
   "execution_count": 10,
   "metadata": {},
   "outputs": [
    {
     "name": "stdout",
     "output_type": "stream",
     "text": [
      "Total predictions: 358\n",
      "Total entities: 284\n",
      "recall: 0.838028169014\n",
      "precision: 0.664804469274\n",
      "F1 score:0.741433021807\n"
     ]
    }
   ],
   "source": [
    "resultsfile=\"results/res1\"\n",
    "beta=1\n",
    "pre,rec=acc(resultsfile,tagsace)\n",
    "f=fbeta(beta,pre,rec)\n",
    "print(\"F1 score:\"+str(f))"
   ]
  },
  {
   "cell_type": "markdown",
   "metadata": {},
   "source": [
    "### Result 5\n",
    "\n",
    "* **Training set**: 90% of ACE corpus (no features except for surface form + regex)\n",
    "* **Test set**:  10% of ACE corpus\n",
    "* **Pattern file**: acepats\n",
    "* **Configurations**: Default mode with no penalty\n",
    "\n",
    "* **Terminal call for training**: `wapiti train -p patternfile trainfile modelfile`\n",
    "* **Terminal call for prediction**: `wapiti label -m modelfile testfile outputfile`"
   ]
  },
  {
   "cell_type": "code",
   "execution_count": 11,
   "metadata": {},
   "outputs": [
    {
     "name": "stdout",
     "output_type": "stream",
     "text": [
      "Total predictions: 349\n",
      "Total entities: 284\n",
      "recall: 0.845070422535\n",
      "precision: 0.687679083095\n",
      "F1 score:0.758293838863\n"
     ]
    }
   ],
   "source": [
    "resultsfile=\"results/res2\"\n",
    "beta=1\n",
    "pre,rec=acc(resultsfile,tagsace)\n",
    "f=fbeta(beta,pre,rec)\n",
    "print(\"F1 score:\"+str(f))"
   ]
  },
  {
   "cell_type": "markdown",
   "metadata": {},
   "source": [
    "### Result 6\n",
    "\n",
    "* **Training set**: 100% of Conll and 70% of ACE corpus (no features except for surface form + regex)\n",
    "* **Test set**:  20% of ACE corpus\n",
    "* **Pattern file**: acepats\n",
    "* **Configurations**: Default mode with no penalty\n",
    "\n",
    "* **Terminal call for training**: `wapiti train -p patternfile trainfile modelfile`\n",
    "* **Terminal call for prediction**: `wapiti label -m modelfile testfile outputfile`\n",
    "\n",
    "results are in the \"results/merres*.txt\" files (3 files for models that are slightly different). Results are similar for all 3 configurations."
   ]
  },
  {
   "cell_type": "code",
   "execution_count": 17,
   "metadata": {},
   "outputs": [
    {
     "name": "stdout",
     "output_type": "stream",
     "text": [
      "Total predictions: 1679\n",
      "Total entities: 1897\n",
      "recall: 0.724828676858\n",
      "precision: 0.818939845146\n",
      "F1 score:0.769015659955\n"
     ]
    }
   ],
   "source": [
    "resultsfile=\"results/merres.txt\"\n",
    "beta=1\n",
    "pre,rec=acc2(resultsfile)\n",
    "f=fbeta(beta,pre,rec)\n",
    "print(\"F1 score:\"+str(f))"
   ]
  },
  {
   "cell_type": "code",
   "execution_count": 18,
   "metadata": {},
   "outputs": [
    {
     "name": "stdout",
     "output_type": "stream",
     "text": [
      "Total predictions: 1727\n",
      "Total entities: 1897\n",
      "recall: 0.731154454402\n",
      "precision: 0.803126809496\n",
      "F1 score:0.765452538631\n"
     ]
    }
   ],
   "source": [
    "resultsfile=\"results/merres2.txt\"\n",
    "beta=1\n",
    "pre,rec=acc2(resultsfile)\n",
    "f=fbeta(beta,pre,rec)\n",
    "print(\"F1 score:\"+str(f))"
   ]
  },
  {
   "cell_type": "code",
   "execution_count": 19,
   "metadata": {},
   "outputs": [
    {
     "name": "stdout",
     "output_type": "stream",
     "text": [
      "Total predictions: 1762\n",
      "Total entities: 1897\n",
      "recall: 0.733790195045\n",
      "precision: 0.790011350738\n",
      "F1 score:0.760863623941\n"
     ]
    }
   ],
   "source": [
    "resultsfile=\"results/merres3.txt\"\n",
    "beta=1\n",
    "pre,rec=acc2(resultsfile)\n",
    "f=fbeta(beta,pre,rec)\n",
    "print(\"F1 score:\"+str(f))"
   ]
  },
  {
   "cell_type": "markdown",
   "metadata": {},
   "source": [
    "## 2) NeuroNER Results\n",
    "\n",
    "NeuroNER is a Named Entity Recognition Tool that uses Bi-LSTM CRF with word and character embeddings.\n",
    "\n",
    "The tool gives state-of-art results for the Conll dataset\n",
    "\n",
    "More information is available at:\n",
    "\n",
    "http://neuroner.com/\n",
    "\n",
    "Also the github repo https://github.com/Franck-Dernoncourt/NeuroNER has very detailed information about the tool."
   ]
  },
  {
   "cell_type": "markdown",
   "metadata": {},
   "source": [
    "### Pretrained Model on Conll testset\n",
    "\n",
    "As the pretrained model is trained on Conll training set, the model performs very well on Conll test set.\n",
    "\n",
    "Confusion matrix for this result is in the \"results/NeuroNer_Conlltest_Confmat.pdf\" file in our github repo."
   ]
  },
  {
   "cell_type": "code",
   "execution_count": 5,
   "metadata": {
    "scrolled": true
   },
   "outputs": [
    {
     "name": "stdout",
     "output_type": "stream",
     "text": [
      "processed 46435 tokens with 5648 phrases; found: 5663 phrases; correct: 5127.\n",
      "accuracy:  97.89%; precision:  90.54%; recall:  90.78%; FB1:  90.66\n",
      "              LOC: precision:  92.53%; recall:  92.81%; FB1:  92.67  1673\n",
      "             MISC: precision:  81.12%; recall:  80.20%; FB1:  80.66  694\n",
      "              ORG: precision:  86.98%; recall:  89.28%; FB1:  88.12  1705\n",
      "              PER: precision:  96.35%; recall:  94.81%; FB1:  95.57  1591\n",
      "\n"
     ]
    }
   ],
   "source": [
    "res1=open(\"results/NeuroNer_Conlltestres.txt\").read()\n",
    "print(res1)"
   ]
  },
  {
   "cell_type": "markdown",
   "metadata": {},
   "source": [
    "### Pretrained Model on ACE testset\n",
    "\n",
    "As the model is trained on a different dataset the scores drop significantly, which suggests that pretrained models perform poorly on different domains with little entity overlaps. Another approach is that pretrained model on Conll has the PER and MISC tags which are not available in our ACE corpus. Thus the results are misleading and this approach is not meaningful. So we change the labels in the Conll dataset and train the model again."
   ]
  },
  {
   "cell_type": "markdown",
   "metadata": {},
   "source": [
    "### Training Model on Conll and testing on ACE test set\n",
    "\n",
    "We start testing our model on ACE using Conll dataset for the training. We merged the conll train test and validation sets into a single corpus. Training is done on this corpus, for validation and testing we use 10% and 20% of ACE respectively. Confusion matrix address: \n",
    "\n",
    "\"**results/NeuroNer_Conlltrain_ACEtest_confmat.pdf**\""
   ]
  },
  {
   "cell_type": "code",
   "execution_count": 21,
   "metadata": {},
   "outputs": [
    {
     "name": "stdout",
     "output_type": "stream",
     "text": [
      "processed 49689 tokens with 1408 phrases; found: 1273 phrases; correct: 845.\n",
      "accuracy:  97.47%; precision:  66.38%; recall:  60.01%; FB1:  63.04\n",
      "              LOC: precision:  71.54%; recall:  63.31%; FB1:  67.17  931\n",
      "              ORG: precision:  52.34%; recall:  50.28%; FB1:  51.29  342\n",
      "\n"
     ]
    }
   ],
   "source": [
    "contracetesres1=open(\"results/NeuroNer_Conlltrain_ACEtest_res.txt\").read()\n",
    "print(contracetesres1)"
   ]
  },
  {
   "cell_type": "markdown",
   "metadata": {},
   "source": [
    "### Training Model on using ACE dataset alone\n",
    "\n",
    "Next we trained the NeuroNer tool by splitting the ACE corpus into 3 sets using corpsplitter.py:\n",
    "\n",
    "* train.txt\n",
    "* valid.txt\n",
    "* test.txt\n",
    "\n",
    "Below are the results of the trained model on ACE test set. As the size of test and valid sets are small the results can be misleading. They are only shown to give a rough idea about the success of the model. Confusion matrix is included in the github with name \"**results/ACE_test_confmat.pdf**\". \n",
    "\n",
    "Training the model using the ACE dataset increases the scores significantly. Results suggests NER systems perform well when the training and test data is from the same domain or same source. "
   ]
  },
  {
   "cell_type": "code",
   "execution_count": 22,
   "metadata": {},
   "outputs": [
    {
     "name": "stdout",
     "output_type": "stream",
     "text": [
      "processed 49689 tokens with 1408 phrases; found: 1521 phrases; correct: 1221.\n",
      "accuracy:  98.69%; precision:  80.28%; recall:  86.72%; FB1:  83.37\n",
      "              LOC: precision:  83.20%; recall:  91.35%; FB1:  87.09  1155\n",
      "              ORG: precision:  71.04%; recall:  73.03%; FB1:  72.02  366\n",
      "\n"
     ]
    }
   ],
   "source": [
    "aceres1=open(\"results/ACEtrain_testres.txt\").read()\n",
    "print(aceres1)"
   ]
  },
  {
   "cell_type": "markdown",
   "metadata": {},
   "source": [
    "### Training Model on  ACE and Conll datasets combined\n",
    "\n",
    "In this step we merged the 2 datasets( 100% of Conll and 70 % of ACE) and trained the model using this larger corpus.\n",
    "Testing is done on 20 % of ACE and validation uses the 10%.\n",
    "\n",
    "As the corpus size is doubled training times increased accordingly. Each epoch takes around 900 seconds. Below are the results for the ANN trained for *34* epochs calculated using token metric (not Conll metric). The results show that we obtain an increase in the F1-score by merging two corpora. \n",
    "\n",
    "* **\"results/mergedtrain_ACEtest_confmat.pdf\"** is the confusion matrix file.\n"
   ]
  },
  {
   "cell_type": "code",
   "execution_count": 6,
   "metadata": {},
   "outputs": [
    {
     "name": "stdout",
     "output_type": "stream",
     "text": [
      "processed 49689 tokens with 1408 phrases; found: 1443 phrases; correct: 1214.\n",
      "accuracy:  98.85%; precision:  84.13%; recall:  86.22%; FB1:  85.16\n",
      "              LOC: precision:  85.69%; recall:  92.21%; FB1:  88.83  1132\n",
      "              ORG: precision:  78.46%; recall:  68.54%; FB1:  73.16  311\n",
      "\n"
     ]
    }
   ],
   "source": [
    "resmerged=open(\"results/mergedtrain_ACEtestres.txt\").read()\n",
    "print(resmerged)"
   ]
  },
  {
   "cell_type": "code",
   "execution_count": 30,
   "metadata": {},
   "outputs": [
    {
     "name": "stdout",
     "output_type": "stream",
     "text": [
      "[('We', 'PRP'), ('are', 'VBP'), ('going', 'VBG'), ('out', 'RP'), ('.', '.'), ('Just', 'NNP'), ('you', 'PRP'), ('and', 'CC'), ('me', 'PRP'), ('.', '.')]\n"
     ]
    }
   ],
   "source": [
    "### Pos tag ekleyebilirim ACE datasetine\n",
    "import nltk \n",
    "text=nltk.word_tokenize(\"We are going out. Just you and me.\")\n",
    "print nltk.pos_tag(text)"
   ]
  },
  {
   "cell_type": "code",
   "execution_count": 35,
   "metadata": {},
   "outputs": [
    {
     "name": "stdout",
     "output_type": "stream",
     "text": [
      "Total predictions: 8698\n",
      "Total entities: 8938\n",
      "recall: 0.956477959275\n",
      "precision: 0.982869625201\n"
     ]
    }
   ],
   "source": [
    "pre,rec=acc2(\"wapitideneme/acedene/second/res3\")"
   ]
  },
  {
   "cell_type": "code",
   "execution_count": null,
   "metadata": {},
   "outputs": [],
   "source": []
  }
 ],
 "metadata": {
  "kernelspec": {
   "display_name": "Python 2",
   "language": "python",
   "name": "python2"
  },
  "language_info": {
   "codemirror_mode": {
    "name": "ipython",
    "version": 2
   },
   "file_extension": ".py",
   "mimetype": "text/x-python",
   "name": "python",
   "nbconvert_exporter": "python",
   "pygments_lexer": "ipython2",
   "version": "2.7.15rc1"
  }
 },
 "nbformat": 4,
 "nbformat_minor": 2
}
