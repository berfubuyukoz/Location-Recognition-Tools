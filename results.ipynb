{
 "cells": [
  {
   "cell_type": "markdown",
   "metadata": {},
   "source": [
    "# Results for Place Name Recognition using Wapiti"
   ]
  },
  {
   "cell_type": "markdown",
   "metadata": {},
   "source": [
    "This notebook shows the results for various configurations of Wapiti tool on several different training and test sets. For now the list of datasets:\n",
    "    -  ACE corpus\n",
    "    -  Conll corpus\n"
   ]
  },
  {
   "cell_type": "code",
   "execution_count": 31,
   "metadata": {},
   "outputs": [],
   "source": [
    "##calculates and prints precision and recall for the resf file only taking into consideration the tags in  tagf file\n",
    "def acc(resf,tagf):\n",
    "    t=0.0\n",
    "    c=0\n",
    "    tot=0\n",
    "    ptot=0\n",
    "    p=0.0\n",
    "    res1=open(resf).readlines()\n",
    "    for line in res1:\n",
    "        line1=line.split()\n",
    "        if len(line1)>2:\n",
    "            if line1[-2] in tagf:\n",
    "                if line1[-2]==line1[-1]:\n",
    "                    t+=1\n",
    "                c+=1\n",
    "            if line1[-1] in tagf:\n",
    "                if line1[-1]==line1[-2]:\n",
    "                    p+=1\n",
    "                ptot+=1\n",
    "            tot+=1\n",
    "    print(\"Total predictions: \"+str(ptot))\n",
    "    print(\"Total entities: \"+ str(c))\n",
    "    rec=t/c\n",
    "    pre=p/ptot\n",
    "    print(\"recall: \"+str(rec))\n",
    "    print(\"precision: \"+str(pre))\n",
    "    return pre,rec"
   ]
  },
  {
   "cell_type": "code",
   "execution_count": 32,
   "metadata": {},
   "outputs": [],
   "source": [
    "## calculates and returns fbeta score using the parameters\n",
    "def fbeta(beta,pre,rec):\n",
    "    den = beta*beta* pre + rec\n",
    "    nom = (beta*beta+1)*pre*rec\n",
    "    return nom/den"
   ]
  },
  {
   "cell_type": "code",
   "execution_count": 33,
   "metadata": {},
   "outputs": [],
   "source": [
    "tagsace=[\"GPE\",\"LOC\"]\n",
    "tagscon=[\"I-LOC\"]\n"
   ]
  },
  {
   "cell_type": "markdown",
   "metadata": {},
   "source": [
    "***NOTE:*** User must change the value of the resultsfile variable for each result accordingly. I used the default addresses for them. The program will not work if the address is not given properly."
   ]
  },
  {
   "cell_type": "markdown",
   "metadata": {},
   "source": [
    "## Results for Conll alone\n",
    "\n",
    "Results below use the Conll dataset and the predefined Conll features for learning"
   ]
  },
  {
   "cell_type": "markdown",
   "metadata": {},
   "source": [
    "### Result 1\n",
    "\n",
    "* **Training set**: Conll training set \n",
    "\n",
    "* **Test set**: Conll testa,testb\n",
    "* **Pattern file**: nppattern.txt\n",
    "\n",
    "* **Configurations**: L1 norm penalty 5 \n",
    "\n",
    "* **Terminal call for training**: `wapiti train -p patternfile -1 5 trainfile modelfile`\n",
    "* **Terminal call for prediction**: `wapiti label -m modelfile testfile outputfile`"
   ]
  },
  {
   "cell_type": "markdown",
   "metadata": {},
   "source": [
    "**testa**"
   ]
  },
  {
   "cell_type": "code",
   "execution_count": 59,
   "metadata": {
    "scrolled": false
   },
   "outputs": [
    {
     "name": "stdout",
     "output_type": "stream",
     "text": [
      "Total predictions: 2158\n",
      "Total entities: 2094\n",
      "recall: 0.872015281757\n",
      "precision: 0.846153846154\n",
      "F1 score:0.858889934149\n"
     ]
    }
   ],
   "source": [
    "resultsfile=\"wapitideneme/conlldene/baseline/resa.txt\"\n",
    "beta=1\n",
    "pre,rec=acc(resultsfile,tagscon)\n",
    "f=fbeta(beta,pre,rec)\n",
    "print(\"F1 score:\"+str(f))"
   ]
  },
  {
   "cell_type": "markdown",
   "metadata": {},
   "source": [
    "**testb**"
   ]
  },
  {
   "cell_type": "code",
   "execution_count": 60,
   "metadata": {},
   "outputs": [
    {
     "name": "stdout",
     "output_type": "stream",
     "text": [
      "Total predictions: 1946\n",
      "Total entities: 1919\n",
      "recall: 0.813444502345\n",
      "precision: 0.802158273381\n",
      "F1 score:0.807761966365\n"
     ]
    }
   ],
   "source": [
    "resultsfile=\"wapitideneme/conlldene/baseline/resb.txt\"\n",
    "beta=1\n",
    "pre,rec=acc(resultsfile,tagscon)\n",
    "f=fbeta(beta,pre,rec)\n",
    "print(\"F1 score:\"+str(f))"
   ]
  },
  {
   "cell_type": "markdown",
   "metadata": {},
   "source": [
    "### Result 2\n",
    "\n",
    "* **Training set**: Conll training set \n",
    "\n",
    "* **Test set**: Conll testa,testb\n",
    "* **Pattern file**: nppattern.txt\n",
    "\n",
    "* **Configurations**: default mode with no L1 penalty \n",
    "\n",
    "* **Terminal call for training**: `wapiti train -p patternfile trainfile modelfile`\n",
    "* **Terminal call for prediction**: `wapiti label -m modelfile testfile outputfile`"
   ]
  },
  {
   "cell_type": "markdown",
   "metadata": {},
   "source": [
    "**testa**"
   ]
  },
  {
   "cell_type": "code",
   "execution_count": 61,
   "metadata": {},
   "outputs": [
    {
     "name": "stdout",
     "output_type": "stream",
     "text": [
      "Total predictions: 2098\n",
      "Total entities: 2094\n",
      "recall: 0.916427889207\n",
      "precision: 0.914680648236\n",
      "F1 score:0.915553435115\n"
     ]
    }
   ],
   "source": [
    "resultsfile=\"wapitideneme/conlldene/baseline/resa2.txt\"\n",
    "beta=1\n",
    "pre,rec=acc(resultsfile,tagscon)\n",
    "f=fbeta(beta,pre,rec)\n",
    "print(\"F1 score:\"+str(f))"
   ]
  },
  {
   "cell_type": "markdown",
   "metadata": {},
   "source": [
    "**testb**"
   ]
  },
  {
   "cell_type": "code",
   "execution_count": 62,
   "metadata": {},
   "outputs": [
    {
     "name": "stdout",
     "output_type": "stream",
     "text": [
      "Total predictions: 1878\n",
      "Total entities: 1919\n",
      "recall: 0.853048462741\n",
      "precision: 0.87167199148\n",
      "F1 score:0.862259678694\n"
     ]
    }
   ],
   "source": [
    "resultsfile=\"wapitideneme/conlldene/baseline/resb2.txt\"\n",
    "beta=1\n",
    "pre,rec=acc(resultsfile,tagscon)\n",
    "f=fbeta(beta,pre,rec)\n",
    "print(\"F1 score:\"+str(f))"
   ]
  },
  {
   "cell_type": "markdown",
   "metadata": {},
   "source": [
    "### Result 3\n",
    "\n",
    "* **Training set**: Conll training set (sentence splitted version)\n",
    "\n",
    "* **Test set**: Conll testa,testb\n",
    "* **Pattern file**: nppattern.txt\n",
    "\n",
    "* **Configurations**: default mode with no L1 penalty\n",
    "\n",
    "* **Terminal call for training**: `wapiti train -p patternfile trainfile modelfile`\n",
    "* **Terminal call for prediction**: `wapiti label -m modelfile testfile outputfile`"
   ]
  },
  {
   "cell_type": "markdown",
   "metadata": {},
   "source": [
    "** testa **"
   ]
  },
  {
   "cell_type": "code",
   "execution_count": 63,
   "metadata": {},
   "outputs": [
    {
     "name": "stdout",
     "output_type": "stream",
     "text": [
      "Total predictions: 2108\n",
      "Total entities: 2094\n",
      "recall: 0.920248328558\n",
      "precision: 0.914136622391\n",
      "F1 score:0.917182294146\n"
     ]
    }
   ],
   "source": [
    "resultsfile=\"wapitideneme/conlldene/base2/wapresa\"\n",
    "beta=1\n",
    "pre,rec=acc(resultsfile,tagscon)\n",
    "f=fbeta(beta,pre,rec)\n",
    "print(\"F1 score:\"+str(f))"
   ]
  },
  {
   "cell_type": "markdown",
   "metadata": {},
   "source": [
    "**testb**"
   ]
  },
  {
   "cell_type": "code",
   "execution_count": 64,
   "metadata": {},
   "outputs": [
    {
     "name": "stdout",
     "output_type": "stream",
     "text": [
      "Total predictions: 1896\n",
      "Total entities: 1919\n",
      "recall: 0.852006253257\n",
      "precision: 0.862341772152\n",
      "F1 score:0.857142857143\n"
     ]
    }
   ],
   "source": [
    "resultsfile=\"wapitideneme/conlldene/base2/wapresb\"\n",
    "beta=1\n",
    "pre,rec=acc(resultsfile,tagscon)\n",
    "f=fbeta(beta,pre,rec)\n",
    "print(\"F1 score:\"+str(f))"
   ]
  },
  {
   "cell_type": "markdown",
   "metadata": {},
   "source": [
    "## Results for ACE alone\n",
    "\n",
    "There are many entity types available in the ACE dataset. For the purpose of our project we only consider the entities with tags GPE and LOC. As in the case for Conll we ignore the boundaries (BIO representation)."
   ]
  },
  {
   "cell_type": "markdown",
   "metadata": {},
   "source": [
    "### Result 4\n",
    "\n",
    "No features are given to the CRF learner. These can be considered as the baseline performance of Wapiti on ACE alone.\n",
    "A lot of improvements can be done over these scores.\n",
    "* **Training set**: 90% of ACE corpus (no features except for surface form + regex)\n",
    "* **Test set**:  10% of ACE corpus\n",
    "* **Pattern file**: acepats\n",
    "* **Configurations**: L1 penalty 1\n",
    "\n",
    "* **Terminal call for training**: `wapiti train -p -1 1 patternfile trainfile modelfile`\n",
    "* **Terminal call for prediction**: `wapiti label -m modelfile testfile outputfile`"
   ]
  },
  {
   "cell_type": "code",
   "execution_count": 68,
   "metadata": {},
   "outputs": [
    {
     "name": "stdout",
     "output_type": "stream",
     "text": [
      "Total predictions: 358\n",
      "Total entities: 284\n",
      "recall: 0.838028169014\n",
      "precision: 0.664804469274\n",
      "F1 score:0.741433021807\n"
     ]
    }
   ],
   "source": [
    "resultsfile=\"wapitideneme/acedene/res1\"\n",
    "beta=1\n",
    "pre,rec=acc(resultsfile,tagsace)\n",
    "f=fbeta(beta,pre,rec)\n",
    "print(\"F1 score:\"+str(f))"
   ]
  },
  {
   "cell_type": "markdown",
   "metadata": {},
   "source": [
    "### Result 5\n",
    "\n",
    "* **Training set**: 90% of ACE corpus (no features except for surface form + regex)\n",
    "* **Test set**:  10% of ACE corpus\n",
    "* **Pattern file**: acepats\n",
    "* **Configurations**: Default mode with no penalty\n",
    "\n",
    "* **Terminal call for training**: `wapiti train -p patternfile trainfile modelfile`\n",
    "* **Terminal call for prediction**: `wapiti label -m modelfile testfile outputfile`"
   ]
  },
  {
   "cell_type": "code",
   "execution_count": 69,
   "metadata": {},
   "outputs": [
    {
     "name": "stdout",
     "output_type": "stream",
     "text": [
      "Total predictions: 349\n",
      "Total entities: 284\n",
      "recall: 0.845070422535\n",
      "precision: 0.687679083095\n",
      "F1 score:0.758293838863\n"
     ]
    }
   ],
   "source": [
    "resultsfile=\"wapitideneme/acedene/second/res2\"\n",
    "beta=1\n",
    "pre,rec=acc(resultsfile,tagsace)\n",
    "f=fbeta(beta,pre,rec)\n",
    "print(\"F1 score:\"+str(f))"
   ]
  },
  {
   "cell_type": "code",
   "execution_count": null,
   "metadata": {},
   "outputs": [],
   "source": []
  }
 ],
 "metadata": {
  "kernelspec": {
   "display_name": "Python 2",
   "language": "python",
   "name": "python2"
  },
  "language_info": {
   "codemirror_mode": {
    "name": "ipython",
    "version": 2
   },
   "file_extension": ".py",
   "mimetype": "text/x-python",
   "name": "python",
   "nbconvert_exporter": "python",
   "pygments_lexer": "ipython2",
   "version": "2.7.15rc1"
  }
 },
 "nbformat": 4,
 "nbformat_minor": 2
}
